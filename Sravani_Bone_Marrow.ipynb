{
  "nbformat": 4,
  "nbformat_minor": 0,
  "metadata": {
    "colab": {
      "provenance": [],
      "collapsed_sections": []
    },
    "kernelspec": {
      "name": "python3",
      "display_name": "Python 3"
    },
    "language_info": {
      "name": "python"
    }
  },
  "cells": [
    {
      "cell_type": "code",
      "execution_count": null,
      "metadata": {
        "id": "QTkVUh13sZ7l"
      },
      "outputs": [],
      "source": [
        "import numpy as np\n",
        "import pandas as pd\n",
        "import seaborn as sns\n",
        "import matplotlib.pyplot as plt\n",
        "from numpy.random import seed\n",
        "from numpy.random import randn\n",
        "from statsmodels.graphics.gofplots import qqplot"
      ]
    },
    {
      "cell_type": "code",
      "source": [
        "dataframe=pd.read_csv('/content/csv_result-bone-marrow.csv')"
      ],
      "metadata": {
        "id": "8tTqoDf_sg5e"
      },
      "execution_count": null,
      "outputs": []
    },
    {
      "cell_type": "code",
      "source": [
        "dataframe.head(5)"
      ],
      "metadata": {
        "colab": {
          "base_uri": "https://localhost:8080/",
          "height": 299
        },
        "id": "Ymh2ZnrIs0kz",
        "outputId": "7c7b370e-d384-4551-a33d-0f5ae08e32c6"
      },
      "execution_count": null,
      "outputs": [
        {
          "output_type": "execute_result",
          "data": {
            "text/plain": [
              "   id  Recipientgender  Stemcellsource   Donorage  Donorage35  IIIV  \\\n",
              "0   1                1               1  22.830137           0     1   \n",
              "1   2                1               0  23.342466           0     1   \n",
              "2   3                1               0  26.394521           0     1   \n",
              "3   4                0               0  39.684932           1     1   \n",
              "4   5                0               1  33.358904           0     0   \n",
              "\n",
              "   Gendermatch  DonorABO RecipientABO RecipientRh  ... extcGvHD CD34kgx10d6  \\\n",
              "0            0         1            1           1  ...        1        7.20   \n",
              "1            0        -1           -1           1  ...        1        4.50   \n",
              "2            0        -1           -1           1  ...        1        7.94   \n",
              "3            0         1            2           1  ...        ?        4.25   \n",
              "4            0         1            2           0  ...        1       51.85   \n",
              "\n",
              "    CD3dCD34 CD3dkgx10d8 Rbodymass  ANCrecovery  PLTrecovery  \\\n",
              "0    1.33876        5.38        35           19           51   \n",
              "1  11.078295        0.41      20.6           16           37   \n",
              "2   19.01323        0.42      23.4           23           20   \n",
              "3  29.481647        0.14        50           23           29   \n",
              "4   3.972255       13.05         9           14           14   \n",
              "\n",
              "   time_to_aGvHD_III_IV  survival_time  survival_status  \n",
              "0                    32            999                0  \n",
              "1               1000000            163                1  \n",
              "2               1000000            435                1  \n",
              "3                    19             53                1  \n",
              "4               1000000           2043                0  \n",
              "\n",
              "[5 rows x 38 columns]"
            ],
            "text/html": [
              "\n",
              "  <div id=\"df-191aa1b3-9f32-4da8-91a6-53be5c2b2db0\">\n",
              "    <div class=\"colab-df-container\">\n",
              "      <div>\n",
              "<style scoped>\n",
              "    .dataframe tbody tr th:only-of-type {\n",
              "        vertical-align: middle;\n",
              "    }\n",
              "\n",
              "    .dataframe tbody tr th {\n",
              "        vertical-align: top;\n",
              "    }\n",
              "\n",
              "    .dataframe thead th {\n",
              "        text-align: right;\n",
              "    }\n",
              "</style>\n",
              "<table border=\"1\" class=\"dataframe\">\n",
              "  <thead>\n",
              "    <tr style=\"text-align: right;\">\n",
              "      <th></th>\n",
              "      <th>id</th>\n",
              "      <th>Recipientgender</th>\n",
              "      <th>Stemcellsource</th>\n",
              "      <th>Donorage</th>\n",
              "      <th>Donorage35</th>\n",
              "      <th>IIIV</th>\n",
              "      <th>Gendermatch</th>\n",
              "      <th>DonorABO</th>\n",
              "      <th>RecipientABO</th>\n",
              "      <th>RecipientRh</th>\n",
              "      <th>...</th>\n",
              "      <th>extcGvHD</th>\n",
              "      <th>CD34kgx10d6</th>\n",
              "      <th>CD3dCD34</th>\n",
              "      <th>CD3dkgx10d8</th>\n",
              "      <th>Rbodymass</th>\n",
              "      <th>ANCrecovery</th>\n",
              "      <th>PLTrecovery</th>\n",
              "      <th>time_to_aGvHD_III_IV</th>\n",
              "      <th>survival_time</th>\n",
              "      <th>survival_status</th>\n",
              "    </tr>\n",
              "  </thead>\n",
              "  <tbody>\n",
              "    <tr>\n",
              "      <th>0</th>\n",
              "      <td>1</td>\n",
              "      <td>1</td>\n",
              "      <td>1</td>\n",
              "      <td>22.830137</td>\n",
              "      <td>0</td>\n",
              "      <td>1</td>\n",
              "      <td>0</td>\n",
              "      <td>1</td>\n",
              "      <td>1</td>\n",
              "      <td>1</td>\n",
              "      <td>...</td>\n",
              "      <td>1</td>\n",
              "      <td>7.20</td>\n",
              "      <td>1.33876</td>\n",
              "      <td>5.38</td>\n",
              "      <td>35</td>\n",
              "      <td>19</td>\n",
              "      <td>51</td>\n",
              "      <td>32</td>\n",
              "      <td>999</td>\n",
              "      <td>0</td>\n",
              "    </tr>\n",
              "    <tr>\n",
              "      <th>1</th>\n",
              "      <td>2</td>\n",
              "      <td>1</td>\n",
              "      <td>0</td>\n",
              "      <td>23.342466</td>\n",
              "      <td>0</td>\n",
              "      <td>1</td>\n",
              "      <td>0</td>\n",
              "      <td>-1</td>\n",
              "      <td>-1</td>\n",
              "      <td>1</td>\n",
              "      <td>...</td>\n",
              "      <td>1</td>\n",
              "      <td>4.50</td>\n",
              "      <td>11.078295</td>\n",
              "      <td>0.41</td>\n",
              "      <td>20.6</td>\n",
              "      <td>16</td>\n",
              "      <td>37</td>\n",
              "      <td>1000000</td>\n",
              "      <td>163</td>\n",
              "      <td>1</td>\n",
              "    </tr>\n",
              "    <tr>\n",
              "      <th>2</th>\n",
              "      <td>3</td>\n",
              "      <td>1</td>\n",
              "      <td>0</td>\n",
              "      <td>26.394521</td>\n",
              "      <td>0</td>\n",
              "      <td>1</td>\n",
              "      <td>0</td>\n",
              "      <td>-1</td>\n",
              "      <td>-1</td>\n",
              "      <td>1</td>\n",
              "      <td>...</td>\n",
              "      <td>1</td>\n",
              "      <td>7.94</td>\n",
              "      <td>19.01323</td>\n",
              "      <td>0.42</td>\n",
              "      <td>23.4</td>\n",
              "      <td>23</td>\n",
              "      <td>20</td>\n",
              "      <td>1000000</td>\n",
              "      <td>435</td>\n",
              "      <td>1</td>\n",
              "    </tr>\n",
              "    <tr>\n",
              "      <th>3</th>\n",
              "      <td>4</td>\n",
              "      <td>0</td>\n",
              "      <td>0</td>\n",
              "      <td>39.684932</td>\n",
              "      <td>1</td>\n",
              "      <td>1</td>\n",
              "      <td>0</td>\n",
              "      <td>1</td>\n",
              "      <td>2</td>\n",
              "      <td>1</td>\n",
              "      <td>...</td>\n",
              "      <td>?</td>\n",
              "      <td>4.25</td>\n",
              "      <td>29.481647</td>\n",
              "      <td>0.14</td>\n",
              "      <td>50</td>\n",
              "      <td>23</td>\n",
              "      <td>29</td>\n",
              "      <td>19</td>\n",
              "      <td>53</td>\n",
              "      <td>1</td>\n",
              "    </tr>\n",
              "    <tr>\n",
              "      <th>4</th>\n",
              "      <td>5</td>\n",
              "      <td>0</td>\n",
              "      <td>1</td>\n",
              "      <td>33.358904</td>\n",
              "      <td>0</td>\n",
              "      <td>0</td>\n",
              "      <td>0</td>\n",
              "      <td>1</td>\n",
              "      <td>2</td>\n",
              "      <td>0</td>\n",
              "      <td>...</td>\n",
              "      <td>1</td>\n",
              "      <td>51.85</td>\n",
              "      <td>3.972255</td>\n",
              "      <td>13.05</td>\n",
              "      <td>9</td>\n",
              "      <td>14</td>\n",
              "      <td>14</td>\n",
              "      <td>1000000</td>\n",
              "      <td>2043</td>\n",
              "      <td>0</td>\n",
              "    </tr>\n",
              "  </tbody>\n",
              "</table>\n",
              "<p>5 rows × 38 columns</p>\n",
              "</div>\n",
              "      <button class=\"colab-df-convert\" onclick=\"convertToInteractive('df-191aa1b3-9f32-4da8-91a6-53be5c2b2db0')\"\n",
              "              title=\"Convert this dataframe to an interactive table.\"\n",
              "              style=\"display:none;\">\n",
              "        \n",
              "  <svg xmlns=\"http://www.w3.org/2000/svg\" height=\"24px\"viewBox=\"0 0 24 24\"\n",
              "       width=\"24px\">\n",
              "    <path d=\"M0 0h24v24H0V0z\" fill=\"none\"/>\n",
              "    <path d=\"M18.56 5.44l.94 2.06.94-2.06 2.06-.94-2.06-.94-.94-2.06-.94 2.06-2.06.94zm-11 1L8.5 8.5l.94-2.06 2.06-.94-2.06-.94L8.5 2.5l-.94 2.06-2.06.94zm10 10l.94 2.06.94-2.06 2.06-.94-2.06-.94-.94-2.06-.94 2.06-2.06.94z\"/><path d=\"M17.41 7.96l-1.37-1.37c-.4-.4-.92-.59-1.43-.59-.52 0-1.04.2-1.43.59L10.3 9.45l-7.72 7.72c-.78.78-.78 2.05 0 2.83L4 21.41c.39.39.9.59 1.41.59.51 0 1.02-.2 1.41-.59l7.78-7.78 2.81-2.81c.8-.78.8-2.07 0-2.86zM5.41 20L4 18.59l7.72-7.72 1.47 1.35L5.41 20z\"/>\n",
              "  </svg>\n",
              "      </button>\n",
              "      \n",
              "  <style>\n",
              "    .colab-df-container {\n",
              "      display:flex;\n",
              "      flex-wrap:wrap;\n",
              "      gap: 12px;\n",
              "    }\n",
              "\n",
              "    .colab-df-convert {\n",
              "      background-color: #E8F0FE;\n",
              "      border: none;\n",
              "      border-radius: 50%;\n",
              "      cursor: pointer;\n",
              "      display: none;\n",
              "      fill: #1967D2;\n",
              "      height: 32px;\n",
              "      padding: 0 0 0 0;\n",
              "      width: 32px;\n",
              "    }\n",
              "\n",
              "    .colab-df-convert:hover {\n",
              "      background-color: #E2EBFA;\n",
              "      box-shadow: 0px 1px 2px rgba(60, 64, 67, 0.3), 0px 1px 3px 1px rgba(60, 64, 67, 0.15);\n",
              "      fill: #174EA6;\n",
              "    }\n",
              "\n",
              "    [theme=dark] .colab-df-convert {\n",
              "      background-color: #3B4455;\n",
              "      fill: #D2E3FC;\n",
              "    }\n",
              "\n",
              "    [theme=dark] .colab-df-convert:hover {\n",
              "      background-color: #434B5C;\n",
              "      box-shadow: 0px 1px 3px 1px rgba(0, 0, 0, 0.15);\n",
              "      filter: drop-shadow(0px 1px 2px rgba(0, 0, 0, 0.3));\n",
              "      fill: #FFFFFF;\n",
              "    }\n",
              "  </style>\n",
              "\n",
              "      <script>\n",
              "        const buttonEl =\n",
              "          document.querySelector('#df-191aa1b3-9f32-4da8-91a6-53be5c2b2db0 button.colab-df-convert');\n",
              "        buttonEl.style.display =\n",
              "          google.colab.kernel.accessAllowed ? 'block' : 'none';\n",
              "\n",
              "        async function convertToInteractive(key) {\n",
              "          const element = document.querySelector('#df-191aa1b3-9f32-4da8-91a6-53be5c2b2db0');\n",
              "          const dataTable =\n",
              "            await google.colab.kernel.invokeFunction('convertToInteractive',\n",
              "                                                     [key], {});\n",
              "          if (!dataTable) return;\n",
              "\n",
              "          const docLinkHtml = 'Like what you see? Visit the ' +\n",
              "            '<a target=\"_blank\" href=https://colab.research.google.com/notebooks/data_table.ipynb>data table notebook</a>'\n",
              "            + ' to learn more about interactive tables.';\n",
              "          element.innerHTML = '';\n",
              "          dataTable['output_type'] = 'display_data';\n",
              "          await google.colab.output.renderOutput(dataTable, element);\n",
              "          const docLink = document.createElement('div');\n",
              "          docLink.innerHTML = docLinkHtml;\n",
              "          element.appendChild(docLink);\n",
              "        }\n",
              "      </script>\n",
              "    </div>\n",
              "  </div>\n",
              "  "
            ]
          },
          "metadata": {},
          "execution_count": 3
        }
      ]
    },
    {
      "cell_type": "code",
      "source": [
        "dataframe.describe()"
      ],
      "metadata": {
        "colab": {
          "base_uri": "https://localhost:8080/",
          "height": 393
        },
        "id": "6qr0xKsis2X2",
        "outputId": "982b1ffc-aeba-431f-dc13-6c0b068646ef"
      },
      "execution_count": null,
      "outputs": [
        {
          "output_type": "execute_result",
          "data": {
            "text/plain": [
              "               id  Recipientgender  Stemcellsource    Donorage  Donorage35  \\\n",
              "count  187.000000       187.000000      187.000000  187.000000  187.000000   \n",
              "mean    94.000000         0.598930        0.775401   33.472068    0.443850   \n",
              "std     54.126395         0.491431        0.418438    8.271826    0.498171   \n",
              "min      1.000000         0.000000        0.000000   18.646575    0.000000   \n",
              "25%     47.500000         0.000000        1.000000   27.039726    0.000000   \n",
              "50%     94.000000         1.000000        1.000000   33.550685    0.000000   \n",
              "75%    140.500000         1.000000        1.000000   40.117809    1.000000   \n",
              "max    187.000000         1.000000        1.000000   55.553425    1.000000   \n",
              "\n",
              "             IIIV  Gendermatch    DonorABO   Riskgroup  Txpostrelapse  ...  \\\n",
              "count  187.000000   187.000000  187.000000  187.000000     187.000000  ...   \n",
              "mean     0.598930     0.171123    0.390374    0.368984       0.122995  ...   \n",
              "std      0.491431     0.377627    0.837632    0.483825       0.329313  ...   \n",
              "min      0.000000     0.000000   -1.000000    0.000000       0.000000  ...   \n",
              "25%      0.000000     0.000000    0.000000    0.000000       0.000000  ...   \n",
              "50%      1.000000     0.000000    0.000000    0.000000       0.000000  ...   \n",
              "75%      1.000000     0.000000    1.000000    1.000000       0.000000  ...   \n",
              "max      1.000000     1.000000    2.000000    1.000000       1.000000  ...   \n",
              "\n",
              "       Recipientage10  Recipientageint     Relapse  aGvHDIIIIV  CD34kgx10d6  \\\n",
              "count      187.000000       187.000000  187.000000  187.000000   187.000000   \n",
              "mean         0.470588         1.224599    0.149733    0.786096    11.891781   \n",
              "std          0.500474         0.824904    0.357767    0.411161     9.914386   \n",
              "min          0.000000         0.000000    0.000000    0.000000     0.790000   \n",
              "25%          0.000000         0.500000    0.000000    1.000000     5.350000   \n",
              "50%          0.000000         1.000000    0.000000    1.000000     9.720000   \n",
              "75%          1.000000         2.000000    0.000000    1.000000    15.415000   \n",
              "max          1.000000         2.000000    1.000000    1.000000    57.780000   \n",
              "\n",
              "          ANCrecovery     PLTrecovery  time_to_aGvHD_III_IV  survival_time  \\\n",
              "count      187.000000      187.000000            187.000000     187.000000   \n",
              "mean     26752.866310    90937.919786         775408.042781     938.743316   \n",
              "std     161747.200525   288242.407688         418425.252689     849.589495   \n",
              "min          9.000000        9.000000             10.000000       6.000000   \n",
              "25%         13.000000       16.000000        1000000.000000     168.500000   \n",
              "50%         15.000000       21.000000        1000000.000000     676.000000   \n",
              "75%         17.000000       37.000000        1000000.000000    1604.000000   \n",
              "max    1000000.000000  1000000.000000        1000000.000000    3364.000000   \n",
              "\n",
              "       survival_status  \n",
              "count       187.000000  \n",
              "mean          0.454545  \n",
              "std           0.499266  \n",
              "min           0.000000  \n",
              "25%           0.000000  \n",
              "50%           0.000000  \n",
              "75%           1.000000  \n",
              "max           1.000000  \n",
              "\n",
              "[8 rows x 25 columns]"
            ],
            "text/html": [
              "\n",
              "  <div id=\"df-8a0f7b14-6d7d-48a8-8101-7b4ddf87edc8\">\n",
              "    <div class=\"colab-df-container\">\n",
              "      <div>\n",
              "<style scoped>\n",
              "    .dataframe tbody tr th:only-of-type {\n",
              "        vertical-align: middle;\n",
              "    }\n",
              "\n",
              "    .dataframe tbody tr th {\n",
              "        vertical-align: top;\n",
              "    }\n",
              "\n",
              "    .dataframe thead th {\n",
              "        text-align: right;\n",
              "    }\n",
              "</style>\n",
              "<table border=\"1\" class=\"dataframe\">\n",
              "  <thead>\n",
              "    <tr style=\"text-align: right;\">\n",
              "      <th></th>\n",
              "      <th>id</th>\n",
              "      <th>Recipientgender</th>\n",
              "      <th>Stemcellsource</th>\n",
              "      <th>Donorage</th>\n",
              "      <th>Donorage35</th>\n",
              "      <th>IIIV</th>\n",
              "      <th>Gendermatch</th>\n",
              "      <th>DonorABO</th>\n",
              "      <th>Riskgroup</th>\n",
              "      <th>Txpostrelapse</th>\n",
              "      <th>...</th>\n",
              "      <th>Recipientage10</th>\n",
              "      <th>Recipientageint</th>\n",
              "      <th>Relapse</th>\n",
              "      <th>aGvHDIIIIV</th>\n",
              "      <th>CD34kgx10d6</th>\n",
              "      <th>ANCrecovery</th>\n",
              "      <th>PLTrecovery</th>\n",
              "      <th>time_to_aGvHD_III_IV</th>\n",
              "      <th>survival_time</th>\n",
              "      <th>survival_status</th>\n",
              "    </tr>\n",
              "  </thead>\n",
              "  <tbody>\n",
              "    <tr>\n",
              "      <th>count</th>\n",
              "      <td>187.000000</td>\n",
              "      <td>187.000000</td>\n",
              "      <td>187.000000</td>\n",
              "      <td>187.000000</td>\n",
              "      <td>187.000000</td>\n",
              "      <td>187.000000</td>\n",
              "      <td>187.000000</td>\n",
              "      <td>187.000000</td>\n",
              "      <td>187.000000</td>\n",
              "      <td>187.000000</td>\n",
              "      <td>...</td>\n",
              "      <td>187.000000</td>\n",
              "      <td>187.000000</td>\n",
              "      <td>187.000000</td>\n",
              "      <td>187.000000</td>\n",
              "      <td>187.000000</td>\n",
              "      <td>187.000000</td>\n",
              "      <td>187.000000</td>\n",
              "      <td>187.000000</td>\n",
              "      <td>187.000000</td>\n",
              "      <td>187.000000</td>\n",
              "    </tr>\n",
              "    <tr>\n",
              "      <th>mean</th>\n",
              "      <td>94.000000</td>\n",
              "      <td>0.598930</td>\n",
              "      <td>0.775401</td>\n",
              "      <td>33.472068</td>\n",
              "      <td>0.443850</td>\n",
              "      <td>0.598930</td>\n",
              "      <td>0.171123</td>\n",
              "      <td>0.390374</td>\n",
              "      <td>0.368984</td>\n",
              "      <td>0.122995</td>\n",
              "      <td>...</td>\n",
              "      <td>0.470588</td>\n",
              "      <td>1.224599</td>\n",
              "      <td>0.149733</td>\n",
              "      <td>0.786096</td>\n",
              "      <td>11.891781</td>\n",
              "      <td>26752.866310</td>\n",
              "      <td>90937.919786</td>\n",
              "      <td>775408.042781</td>\n",
              "      <td>938.743316</td>\n",
              "      <td>0.454545</td>\n",
              "    </tr>\n",
              "    <tr>\n",
              "      <th>std</th>\n",
              "      <td>54.126395</td>\n",
              "      <td>0.491431</td>\n",
              "      <td>0.418438</td>\n",
              "      <td>8.271826</td>\n",
              "      <td>0.498171</td>\n",
              "      <td>0.491431</td>\n",
              "      <td>0.377627</td>\n",
              "      <td>0.837632</td>\n",
              "      <td>0.483825</td>\n",
              "      <td>0.329313</td>\n",
              "      <td>...</td>\n",
              "      <td>0.500474</td>\n",
              "      <td>0.824904</td>\n",
              "      <td>0.357767</td>\n",
              "      <td>0.411161</td>\n",
              "      <td>9.914386</td>\n",
              "      <td>161747.200525</td>\n",
              "      <td>288242.407688</td>\n",
              "      <td>418425.252689</td>\n",
              "      <td>849.589495</td>\n",
              "      <td>0.499266</td>\n",
              "    </tr>\n",
              "    <tr>\n",
              "      <th>min</th>\n",
              "      <td>1.000000</td>\n",
              "      <td>0.000000</td>\n",
              "      <td>0.000000</td>\n",
              "      <td>18.646575</td>\n",
              "      <td>0.000000</td>\n",
              "      <td>0.000000</td>\n",
              "      <td>0.000000</td>\n",
              "      <td>-1.000000</td>\n",
              "      <td>0.000000</td>\n",
              "      <td>0.000000</td>\n",
              "      <td>...</td>\n",
              "      <td>0.000000</td>\n",
              "      <td>0.000000</td>\n",
              "      <td>0.000000</td>\n",
              "      <td>0.000000</td>\n",
              "      <td>0.790000</td>\n",
              "      <td>9.000000</td>\n",
              "      <td>9.000000</td>\n",
              "      <td>10.000000</td>\n",
              "      <td>6.000000</td>\n",
              "      <td>0.000000</td>\n",
              "    </tr>\n",
              "    <tr>\n",
              "      <th>25%</th>\n",
              "      <td>47.500000</td>\n",
              "      <td>0.000000</td>\n",
              "      <td>1.000000</td>\n",
              "      <td>27.039726</td>\n",
              "      <td>0.000000</td>\n",
              "      <td>0.000000</td>\n",
              "      <td>0.000000</td>\n",
              "      <td>0.000000</td>\n",
              "      <td>0.000000</td>\n",
              "      <td>0.000000</td>\n",
              "      <td>...</td>\n",
              "      <td>0.000000</td>\n",
              "      <td>0.500000</td>\n",
              "      <td>0.000000</td>\n",
              "      <td>1.000000</td>\n",
              "      <td>5.350000</td>\n",
              "      <td>13.000000</td>\n",
              "      <td>16.000000</td>\n",
              "      <td>1000000.000000</td>\n",
              "      <td>168.500000</td>\n",
              "      <td>0.000000</td>\n",
              "    </tr>\n",
              "    <tr>\n",
              "      <th>50%</th>\n",
              "      <td>94.000000</td>\n",
              "      <td>1.000000</td>\n",
              "      <td>1.000000</td>\n",
              "      <td>33.550685</td>\n",
              "      <td>0.000000</td>\n",
              "      <td>1.000000</td>\n",
              "      <td>0.000000</td>\n",
              "      <td>0.000000</td>\n",
              "      <td>0.000000</td>\n",
              "      <td>0.000000</td>\n",
              "      <td>...</td>\n",
              "      <td>0.000000</td>\n",
              "      <td>1.000000</td>\n",
              "      <td>0.000000</td>\n",
              "      <td>1.000000</td>\n",
              "      <td>9.720000</td>\n",
              "      <td>15.000000</td>\n",
              "      <td>21.000000</td>\n",
              "      <td>1000000.000000</td>\n",
              "      <td>676.000000</td>\n",
              "      <td>0.000000</td>\n",
              "    </tr>\n",
              "    <tr>\n",
              "      <th>75%</th>\n",
              "      <td>140.500000</td>\n",
              "      <td>1.000000</td>\n",
              "      <td>1.000000</td>\n",
              "      <td>40.117809</td>\n",
              "      <td>1.000000</td>\n",
              "      <td>1.000000</td>\n",
              "      <td>0.000000</td>\n",
              "      <td>1.000000</td>\n",
              "      <td>1.000000</td>\n",
              "      <td>0.000000</td>\n",
              "      <td>...</td>\n",
              "      <td>1.000000</td>\n",
              "      <td>2.000000</td>\n",
              "      <td>0.000000</td>\n",
              "      <td>1.000000</td>\n",
              "      <td>15.415000</td>\n",
              "      <td>17.000000</td>\n",
              "      <td>37.000000</td>\n",
              "      <td>1000000.000000</td>\n",
              "      <td>1604.000000</td>\n",
              "      <td>1.000000</td>\n",
              "    </tr>\n",
              "    <tr>\n",
              "      <th>max</th>\n",
              "      <td>187.000000</td>\n",
              "      <td>1.000000</td>\n",
              "      <td>1.000000</td>\n",
              "      <td>55.553425</td>\n",
              "      <td>1.000000</td>\n",
              "      <td>1.000000</td>\n",
              "      <td>1.000000</td>\n",
              "      <td>2.000000</td>\n",
              "      <td>1.000000</td>\n",
              "      <td>1.000000</td>\n",
              "      <td>...</td>\n",
              "      <td>1.000000</td>\n",
              "      <td>2.000000</td>\n",
              "      <td>1.000000</td>\n",
              "      <td>1.000000</td>\n",
              "      <td>57.780000</td>\n",
              "      <td>1000000.000000</td>\n",
              "      <td>1000000.000000</td>\n",
              "      <td>1000000.000000</td>\n",
              "      <td>3364.000000</td>\n",
              "      <td>1.000000</td>\n",
              "    </tr>\n",
              "  </tbody>\n",
              "</table>\n",
              "<p>8 rows × 25 columns</p>\n",
              "</div>\n",
              "      <button class=\"colab-df-convert\" onclick=\"convertToInteractive('df-8a0f7b14-6d7d-48a8-8101-7b4ddf87edc8')\"\n",
              "              title=\"Convert this dataframe to an interactive table.\"\n",
              "              style=\"display:none;\">\n",
              "        \n",
              "  <svg xmlns=\"http://www.w3.org/2000/svg\" height=\"24px\"viewBox=\"0 0 24 24\"\n",
              "       width=\"24px\">\n",
              "    <path d=\"M0 0h24v24H0V0z\" fill=\"none\"/>\n",
              "    <path d=\"M18.56 5.44l.94 2.06.94-2.06 2.06-.94-2.06-.94-.94-2.06-.94 2.06-2.06.94zm-11 1L8.5 8.5l.94-2.06 2.06-.94-2.06-.94L8.5 2.5l-.94 2.06-2.06.94zm10 10l.94 2.06.94-2.06 2.06-.94-2.06-.94-.94-2.06-.94 2.06-2.06.94z\"/><path d=\"M17.41 7.96l-1.37-1.37c-.4-.4-.92-.59-1.43-.59-.52 0-1.04.2-1.43.59L10.3 9.45l-7.72 7.72c-.78.78-.78 2.05 0 2.83L4 21.41c.39.39.9.59 1.41.59.51 0 1.02-.2 1.41-.59l7.78-7.78 2.81-2.81c.8-.78.8-2.07 0-2.86zM5.41 20L4 18.59l7.72-7.72 1.47 1.35L5.41 20z\"/>\n",
              "  </svg>\n",
              "      </button>\n",
              "      \n",
              "  <style>\n",
              "    .colab-df-container {\n",
              "      display:flex;\n",
              "      flex-wrap:wrap;\n",
              "      gap: 12px;\n",
              "    }\n",
              "\n",
              "    .colab-df-convert {\n",
              "      background-color: #E8F0FE;\n",
              "      border: none;\n",
              "      border-radius: 50%;\n",
              "      cursor: pointer;\n",
              "      display: none;\n",
              "      fill: #1967D2;\n",
              "      height: 32px;\n",
              "      padding: 0 0 0 0;\n",
              "      width: 32px;\n",
              "    }\n",
              "\n",
              "    .colab-df-convert:hover {\n",
              "      background-color: #E2EBFA;\n",
              "      box-shadow: 0px 1px 2px rgba(60, 64, 67, 0.3), 0px 1px 3px 1px rgba(60, 64, 67, 0.15);\n",
              "      fill: #174EA6;\n",
              "    }\n",
              "\n",
              "    [theme=dark] .colab-df-convert {\n",
              "      background-color: #3B4455;\n",
              "      fill: #D2E3FC;\n",
              "    }\n",
              "\n",
              "    [theme=dark] .colab-df-convert:hover {\n",
              "      background-color: #434B5C;\n",
              "      box-shadow: 0px 1px 3px 1px rgba(0, 0, 0, 0.15);\n",
              "      filter: drop-shadow(0px 1px 2px rgba(0, 0, 0, 0.3));\n",
              "      fill: #FFFFFF;\n",
              "    }\n",
              "  </style>\n",
              "\n",
              "      <script>\n",
              "        const buttonEl =\n",
              "          document.querySelector('#df-8a0f7b14-6d7d-48a8-8101-7b4ddf87edc8 button.colab-df-convert');\n",
              "        buttonEl.style.display =\n",
              "          google.colab.kernel.accessAllowed ? 'block' : 'none';\n",
              "\n",
              "        async function convertToInteractive(key) {\n",
              "          const element = document.querySelector('#df-8a0f7b14-6d7d-48a8-8101-7b4ddf87edc8');\n",
              "          const dataTable =\n",
              "            await google.colab.kernel.invokeFunction('convertToInteractive',\n",
              "                                                     [key], {});\n",
              "          if (!dataTable) return;\n",
              "\n",
              "          const docLinkHtml = 'Like what you see? Visit the ' +\n",
              "            '<a target=\"_blank\" href=https://colab.research.google.com/notebooks/data_table.ipynb>data table notebook</a>'\n",
              "            + ' to learn more about interactive tables.';\n",
              "          element.innerHTML = '';\n",
              "          dataTable['output_type'] = 'display_data';\n",
              "          await google.colab.output.renderOutput(dataTable, element);\n",
              "          const docLink = document.createElement('div');\n",
              "          docLink.innerHTML = docLinkHtml;\n",
              "          element.appendChild(docLink);\n",
              "        }\n",
              "      </script>\n",
              "    </div>\n",
              "  </div>\n",
              "  "
            ]
          },
          "metadata": {},
          "execution_count": 4
        }
      ]
    },
    {
      "cell_type": "code",
      "source": [
        "column_list=list(dataframe.columns)"
      ],
      "metadata": {
        "id": "hzaiiQv_tE_E"
      },
      "execution_count": null,
      "outputs": []
    },
    {
      "cell_type": "code",
      "source": [
        "dataframe.shape[1]"
      ],
      "metadata": {
        "colab": {
          "base_uri": "https://localhost:8080/"
        },
        "id": "YHcRZNyOtHmb",
        "outputId": "18724310-d55a-4447-b586-3704bc3ad2ef"
      },
      "execution_count": null,
      "outputs": [
        {
          "output_type": "execute_result",
          "data": {
            "text/plain": [
              "38"
            ]
          },
          "metadata": {},
          "execution_count": 7
        }
      ]
    },
    {
      "cell_type": "code",
      "source": [
        "for i in range (dataframe.shape[1]):\n",
        "    dataframe[column_list[i]] = dataframe[column_list[i]].apply(lambda x: np.nan if x == '?' else x) "
      ],
      "metadata": {
        "id": "KqLuDGv7tJxC"
      },
      "execution_count": null,
      "outputs": []
    },
    {
      "cell_type": "code",
      "source": [
        "dataframe.isnull().sum()"
      ],
      "metadata": {
        "colab": {
          "base_uri": "https://localhost:8080/"
        },
        "id": "UQN3kA9utMlx",
        "outputId": "31e89aa9-f813-4c32-fc24-9b5f2f4e4c31"
      },
      "execution_count": null,
      "outputs": [
        {
          "output_type": "execute_result",
          "data": {
            "text/plain": [
              "id                       0\n",
              "Recipientgender          0\n",
              "Stemcellsource           0\n",
              "Donorage                 0\n",
              "Donorage35               0\n",
              "IIIV                     0\n",
              "Gendermatch              0\n",
              "DonorABO                 0\n",
              "RecipientABO             1\n",
              "RecipientRh              2\n",
              "ABOmatch                 1\n",
              "CMVstatus               16\n",
              "DonorCMV                 2\n",
              "RecipientCMV            14\n",
              "Disease                  0\n",
              "Riskgroup                0\n",
              "Txpostrelapse            0\n",
              "Diseasegroup             0\n",
              "HLAmatch                 0\n",
              "HLAmismatch              0\n",
              "Antigen                  1\n",
              "Alel                     1\n",
              "HLAgrI                   0\n",
              "Recipientage             0\n",
              "Recipientage10           0\n",
              "Recipientageint          0\n",
              "Relapse                  0\n",
              "aGvHDIIIIV               0\n",
              "extcGvHD                31\n",
              "CD34kgx10d6              0\n",
              "CD3dCD34                 5\n",
              "CD3dkgx10d8              5\n",
              "Rbodymass                2\n",
              "ANCrecovery              0\n",
              "PLTrecovery              0\n",
              "time_to_aGvHD_III_IV     0\n",
              "survival_time            0\n",
              "survival_status          0\n",
              "dtype: int64"
            ]
          },
          "metadata": {},
          "execution_count": 9
        }
      ]
    },
    {
      "cell_type": "markdown",
      "source": [
        "#Variable 'survival_time'"
      ],
      "metadata": {
        "id": "317JggzHvqYA"
      }
    },
    {
      "cell_type": "code",
      "source": [
        "dataframe.survival_time.isnull().sum()"
      ],
      "metadata": {
        "colab": {
          "base_uri": "https://localhost:8080/"
        },
        "id": "HF1VfGHkwupU",
        "outputId": "d00ef714-f39d-4c9a-85cd-81bac5a305c2"
      },
      "execution_count": null,
      "outputs": [
        {
          "output_type": "execute_result",
          "data": {
            "text/plain": [
              "0"
            ]
          },
          "metadata": {},
          "execution_count": 10
        }
      ]
    },
    {
      "cell_type": "markdown",
      "source": [
        "##Scatter Plot"
      ],
      "metadata": {
        "id": "G5k-mBTcxA84"
      }
    },
    {
      "cell_type": "code",
      "source": [
        "fig,ax=plt.subplots(figsize=(13,6))\n",
        "# Scatter plot\n",
        "sns.scatterplot(dataframe.survival_time,dataframe.Recipientage)"
      ],
      "metadata": {
        "colab": {
          "base_uri": "https://localhost:8080/",
          "height": 463
        },
        "id": "0Hm1hybuxHtc",
        "outputId": "cd18fc36-3bd7-4c93-8c5b-eb85cdce18f8"
      },
      "execution_count": null,
      "outputs": [
        {
          "output_type": "stream",
          "name": "stderr",
          "text": [
            "/usr/local/lib/python3.7/dist-packages/seaborn/_decorators.py:43: FutureWarning: Pass the following variables as keyword args: x, y. From version 0.12, the only valid positional argument will be `data`, and passing other arguments without an explicit keyword will result in an error or misinterpretation.\n",
            "  FutureWarning\n"
          ]
        },
        {
          "output_type": "execute_result",
          "data": {
            "text/plain": [
              "<matplotlib.axes._subplots.AxesSubplot at 0x7f31e8112850>"
            ]
          },
          "metadata": {},
          "execution_count": 29
        },
        {
          "output_type": "display_data",
          "data": {
            "text/plain": [
              "<Figure size 936x432 with 1 Axes>"
            ],
            "image/png": "[encoded data removed]"
          },
          "metadata": {
            "needs_background": "light"
          }
        }
      ]
    },
    {
      "cell_type": "markdown",
      "source": [
        "##Box Plot\n"
      ],
      "metadata": {
        "id": "BygMtvt4wcPK"
      }
    },
    {
      "cell_type": "code",
      "source": [
        "fig,ax=plt.subplots(figsize=(13,6))\n",
        "# Box plot\n",
        "sns.boxplot(dataframe.survival_time)"
      ],
      "metadata": {
        "colab": {
          "base_uri": "https://localhost:8080/",
          "height": 463
        },
        "id": "V1O9LM2mwfrq",
        "outputId": "80c0811f-dfeb-44f2-a98b-29a49dcebb2f"
      },
      "execution_count": null,
      "outputs": [
        {
          "output_type": "stream",
          "name": "stderr",
          "text": [
            "/usr/local/lib/python3.7/dist-packages/seaborn/_decorators.py:43: FutureWarning: Pass the following variable as a keyword arg: x. From version 0.12, the only valid positional argument will be `data`, and passing other arguments without an explicit keyword will result in an error or misinterpretation.\n",
            "  FutureWarning\n"
          ]
        },
        {
          "output_type": "execute_result",
          "data": {
            "text/plain": [
              "<matplotlib.axes._subplots.AxesSubplot at 0x7f31e96ff110>"
            ]
          },
          "metadata": {},
          "execution_count": 12
        },
        {
          "output_type": "display_data",
          "data": {
            "text/plain": [
              "<Figure size 936x432 with 1 Axes>"
            ],
            "image/png": "[encoded data removed]"
          },
          "metadata": {
            "needs_background": "light"
          }
        }
      ]
    },
    {
      "cell_type": "markdown",
      "source": [
        "##Histogram"
      ],
      "metadata": {
        "id": "PpiDcEwZyVrm"
      }
    },
    {
      "cell_type": "code",
      "source": [
        "fig,ax=plt.subplots(figsize=(13,6))\n",
        "# Histogram\n",
        "sns.distplot(dataframe.survival_time)"
      ],
      "metadata": {
        "colab": {
          "base_uri": "https://localhost:8080/",
          "height": 463
        },
        "id": "bRDG7rhPxvU7",
        "outputId": "97bdb3f9-6e0f-4da4-9951-1775ff300566"
      },
      "execution_count": null,
      "outputs": [
        {
          "output_type": "stream",
          "name": "stderr",
          "text": [
            "/usr/local/lib/python3.7/dist-packages/seaborn/distributions.py:2619: FutureWarning: `distplot` is a deprecated function and will be removed in a future version. Please adapt your code to use either `displot` (a figure-level function with similar flexibility) or `histplot` (an axes-level function for histograms).\n",
            "  warnings.warn(msg, FutureWarning)\n"
          ]
        },
        {
          "output_type": "execute_result",
          "data": {
            "text/plain": [
              "<matplotlib.axes._subplots.AxesSubplot at 0x7f31e9247550>"
            ]
          },
          "metadata": {},
          "execution_count": 13
        },
        {
          "output_type": "display_data",
          "data": {
            "text/plain": [
              "<Figure size 936x432 with 1 Axes>"
            ],
            "image/png": "[encoded data removed]"
          },
          "metadata": {
            "needs_background": "light"
          }
        }
      ]
    },
    {
      "cell_type": "markdown",
      "source": [
        "## Normal Assesment with QQ plot"
      ],
      "metadata": {
        "id": "GZ1Av0CiycsV"
      }
    },
    {
      "cell_type": "code",
      "source": [
        "# QQ Plot\n",
        "qqplot(dataframe.survival_time, line='s')\n",
        "plt.show()"
      ],
      "metadata": {
        "colab": {
          "base_uri": "https://localhost:8080/",
          "height": 279
        },
        "id": "wS56BR-byf2e",
        "outputId": "ed69b620-cb19-45fe-dd2d-d432b4837b9b"
      },
      "execution_count": null,
      "outputs": [
        {
          "output_type": "display_data",
          "data": {
            "text/plain": [
              "<Figure size 432x288 with 1 Axes>"
            ],
            "image/png": "[encoded data removed]"
          },
          "metadata": {
            "needs_background": "light"
          }
        }
      ]
    },
    {
      "cell_type": "markdown",
      "source": [
        "It is not normal as it's histogram is not bell shaped and no straight line pattern"
      ],
      "metadata": {
        "id": "zQHQWzd_0CZT"
      }
    },
    {
      "cell_type": "markdown",
      "source": [
        "##Statistics"
      ],
      "metadata": {
        "id": "cOBZ2TMwiKUi"
      }
    },
    {
      "cell_type": "code",
      "source": [
        "dataframe.survival_time.describe()"
      ],
      "metadata": {
        "colab": {
          "base_uri": "https://localhost:8080/"
        },
        "id": "jxAjd-YAiI4r",
        "outputId": "e30967c4-0b9f-4377-a597-825bbb8de170"
      },
      "execution_count": null,
      "outputs": [
        {
          "output_type": "execute_result",
          "data": {
            "text/plain": [
              "count     187.000000\n",
              "mean      938.743316\n",
              "std       849.589495\n",
              "min         6.000000\n",
              "25%       168.500000\n",
              "50%       676.000000\n",
              "75%      1604.000000\n",
              "max      3364.000000\n",
              "Name: survival_time, dtype: float64"
            ]
          },
          "metadata": {},
          "execution_count": 51
        }
      ]
    },
    {
      "cell_type": "markdown",
      "source": [
        "# Variable Rbodymass"
      ],
      "metadata": {
        "id": "QowpOiHO0P9W"
      }
    },
    {
      "cell_type": "code",
      "source": [
        "# check for null values\n",
        "dataframe.Rbodymass.isnull().sum()"
      ],
      "metadata": {
        "colab": {
          "base_uri": "https://localhost:8080/"
        },
        "id": "-godyGSo07OL",
        "outputId": "f038eb5a-88d5-45ce-8752-10fe4ce11659"
      },
      "execution_count": null,
      "outputs": [
        {
          "output_type": "execute_result",
          "data": {
            "text/plain": [
              "2"
            ]
          },
          "metadata": {},
          "execution_count": 15
        }
      ]
    },
    {
      "cell_type": "code",
      "source": [
        "dataframe['Rbodymass'] = dataframe['Rbodymass'].astype(float)"
      ],
      "metadata": {
        "id": "AvOfqxdS2nCv"
      },
      "execution_count": null,
      "outputs": []
    },
    {
      "cell_type": "code",
      "source": [
        "# imputation\n",
        "dataframe['Rbodymass']=dataframe['Rbodymass'].fillna(dataframe['Rbodymass'].mean())"
      ],
      "metadata": {
        "id": "V3ep_Vt71FSa"
      },
      "execution_count": null,
      "outputs": []
    },
    {
      "cell_type": "code",
      "source": [
        "dataframe.Rbodymass.isnull().sum()"
      ],
      "metadata": {
        "colab": {
          "base_uri": "https://localhost:8080/"
        },
        "id": "M-rrQx7i1OOk",
        "outputId": "890cd39e-12f3-4f93-dc32-68c77eb8edb4"
      },
      "execution_count": null,
      "outputs": [
        {
          "output_type": "execute_result",
          "data": {
            "text/plain": [
              "0"
            ]
          },
          "metadata": {},
          "execution_count": 18
        }
      ]
    },
    {
      "cell_type": "markdown",
      "source": [
        "#Scatter Plot"
      ],
      "metadata": {
        "id": "kQoW7wqa1Qlk"
      }
    },
    {
      "cell_type": "code",
      "source": [
        "fig,ax=plt.subplots(figsize=(13,6))\n",
        "# Box plot\n",
        "sns.scatterplot(dataframe.Rbodymass,dataframe.Donorage)"
      ],
      "metadata": {
        "colab": {
          "base_uri": "https://localhost:8080/",
          "height": 462
        },
        "id": "ygOBQufS1Ta2",
        "outputId": "0579b03b-6d30-4be6-f40b-7c0e09adf209"
      },
      "execution_count": null,
      "outputs": [
        {
          "output_type": "stream",
          "name": "stderr",
          "text": [
            "/usr/local/lib/python3.7/dist-packages/seaborn/_decorators.py:43: FutureWarning: Pass the following variables as keyword args: x, y. From version 0.12, the only valid positional argument will be `data`, and passing other arguments without an explicit keyword will result in an error or misinterpretation.\n",
            "  FutureWarning\n"
          ]
        },
        {
          "output_type": "execute_result",
          "data": {
            "text/plain": [
              "<matplotlib.axes._subplots.AxesSubplot at 0x7f31e922ed10>"
            ]
          },
          "metadata": {},
          "execution_count": 31
        },
        {
          "output_type": "display_data",
          "data": {
            "text/plain": [
              "<Figure size 936x432 with 1 Axes>"
            ],
            "image/png": "[encoded data removed]"
          },
          "metadata": {
            "needs_background": "light"
          }
        }
      ]
    },
    {
      "cell_type": "markdown",
      "source": [
        "#Box Plot"
      ],
      "metadata": {
        "id": "hxJBfZl21kIo"
      }
    },
    {
      "cell_type": "code",
      "source": [
        "fig,ax=plt.subplots(figsize=(13,6))\n",
        "# Box plot\n",
        "sns.boxplot(dataframe.Rbodymass)"
      ],
      "metadata": {
        "colab": {
          "base_uri": "https://localhost:8080/",
          "height": 462
        },
        "id": "LchmdOZ41TeU",
        "outputId": "c3a1f62b-b713-439b-d346-e25ea8c4988e"
      },
      "execution_count": null,
      "outputs": [
        {
          "output_type": "stream",
          "name": "stderr",
          "text": [
            "/usr/local/lib/python3.7/dist-packages/seaborn/_decorators.py:43: FutureWarning: Pass the following variable as a keyword arg: x. From version 0.12, the only valid positional argument will be `data`, and passing other arguments without an explicit keyword will result in an error or misinterpretation.\n",
            "  FutureWarning\n"
          ]
        },
        {
          "output_type": "execute_result",
          "data": {
            "text/plain": [
              "<matplotlib.axes._subplots.AxesSubplot at 0x7f31e907ed50>"
            ]
          },
          "metadata": {},
          "execution_count": 20
        },
        {
          "output_type": "display_data",
          "data": {
            "text/plain": [
              "<Figure size 936x432 with 1 Axes>"
            ],
            "image/png": "[encoded data removed]"
          },
          "metadata": {
            "needs_background": "light"
          }
        }
      ]
    },
    {
      "cell_type": "markdown",
      "source": [
        "##Histogram"
      ],
      "metadata": {
        "id": "PxDUP3dY17mP"
      }
    },
    {
      "cell_type": "code",
      "source": [
        "fig,ax=plt.subplots(figsize=(13,6))\n",
        "# Histogram\n",
        "sns.distplot(dataframe.Rbodymass)"
      ],
      "metadata": {
        "colab": {
          "base_uri": "https://localhost:8080/",
          "height": 462
        },
        "id": "1JhvXhk82EmX",
        "outputId": "21ab6aa8-3828-43b6-c2ec-bce2896b7252"
      },
      "execution_count": null,
      "outputs": [
        {
          "output_type": "stream",
          "name": "stderr",
          "text": [
            "/usr/local/lib/python3.7/dist-packages/seaborn/distributions.py:2619: FutureWarning: `distplot` is a deprecated function and will be removed in a future version. Please adapt your code to use either `displot` (a figure-level function with similar flexibility) or `histplot` (an axes-level function for histograms).\n",
            "  warnings.warn(msg, FutureWarning)\n"
          ]
        },
        {
          "output_type": "execute_result",
          "data": {
            "text/plain": [
              "<matplotlib.axes._subplots.AxesSubplot at 0x7f31e8fec390>"
            ]
          },
          "metadata": {},
          "execution_count": 21
        },
        {
          "output_type": "display_data",
          "data": {
            "text/plain": [
              "<Figure size 936x432 with 1 Axes>"
            ],
            "image/png": "[encoded data removed]"
          },
          "metadata": {
            "needs_background": "light"
          }
        }
      ]
    },
    {
      "cell_type": "markdown",
      "source": [
        "##Normal Assessment with QQ plot"
      ],
      "metadata": {
        "id": "rkvBB9KE2IrN"
      }
    },
    {
      "cell_type": "code",
      "source": [
        "# QQ Plot\n",
        "qqplot(dataframe.Rbodymass, line='s')\n",
        "plt.show()"
      ],
      "metadata": {
        "colab": {
          "base_uri": "https://localhost:8080/",
          "height": 279
        },
        "id": "6HzsXQ632QUD",
        "outputId": "c1fd0722-0c31-49ba-cede-7e2cf94ebff8"
      },
      "execution_count": null,
      "outputs": [
        {
          "output_type": "display_data",
          "data": {
            "text/plain": [
              "<Figure size 432x288 with 1 Axes>"
            ],
            "image/png": "[encoded data removed]"
          },
          "metadata": {
            "needs_background": "light"
          }
        }
      ]
    },
    {
      "cell_type": "markdown",
      "source": [
        "It is not normal as it's histogram is not bell shaped and no straight line pattern"
      ],
      "metadata": {
        "id": "Fo-ApW2l4R1W"
      }
    },
    {
      "cell_type": "markdown",
      "source": [
        "##Statistics"
      ],
      "metadata": {
        "id": "4DPMKvv6lmwk"
      }
    },
    {
      "cell_type": "code",
      "source": [
        "dataframe.Rbodymass.describe()"
      ],
      "metadata": {
        "colab": {
          "base_uri": "https://localhost:8080/"
        },
        "id": "PPQxT5krYEOq",
        "outputId": "757da0dc-83eb-4958-c7f6-26e8129e6b73"
      },
      "execution_count": null,
      "outputs": [
        {
          "output_type": "execute_result",
          "data": {
            "text/plain": [
              "count    187.000000\n",
              "mean      35.801081\n",
              "std       19.544986\n",
              "min        6.000000\n",
              "25%       19.250000\n",
              "50%       33.000000\n",
              "75%       50.300000\n",
              "max      103.400000\n",
              "Name: Rbodymass, dtype: float64"
            ]
          },
          "metadata": {},
          "execution_count": 55
        }
      ]
    }
  ]
}