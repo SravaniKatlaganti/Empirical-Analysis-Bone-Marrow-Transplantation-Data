{
  "cells": [
    {
      "cell_type": "code",
      "source": [
        "!pip install pingouin"
      ],
      "metadata": {
        "colab": {
          "base_uri": "https://localhost:8080/"
        },
        "id": "SuWnCnsB7xY2",
        "outputId": "278683fa-4254-4432-e58e-32c758078d16"
      },
      "id": "SuWnCnsB7xY2",
      "execution_count": 1,
      "outputs": [
        {
          "output_type": "stream",
          "name": "stdout",
          "text": [
            "Looking in indexes: https://pypi.org/simple, https://us-python.pkg.dev/colab-wheels/public/simple/\n",
            "Requirement already satisfied: pingouin in /usr/local/lib/python3.8/dist-packages (0.5.2)\n",
            "Requirement already satisfied: scikit-learn<1.1.0 in /usr/local/lib/python3.8/dist-packages (from pingouin) (1.0.2)\n",
            "Requirement already satisfied: outdated in /usr/local/lib/python3.8/dist-packages (from pingouin) (0.2.2)\n",
            "Requirement already satisfied: statsmodels>=0.13 in /usr/local/lib/python3.8/dist-packages (from pingouin) (0.13.5)\n",
            "Requirement already satisfied: pandas>=1.0 in /usr/local/lib/python3.8/dist-packages (from pingouin) (1.3.5)\n",
            "Requirement already satisfied: tabulate in /usr/local/lib/python3.8/dist-packages (from pingouin) (0.8.10)\n",
            "Requirement already satisfied: pandas-flavor>=0.2.0 in /usr/local/lib/python3.8/dist-packages (from pingouin) (0.3.0)\n",
            "Requirement already satisfied: seaborn>=0.11 in /usr/local/lib/python3.8/dist-packages (from pingouin) (0.11.2)\n",
            "Requirement already satisfied: scipy>=1.7 in /usr/local/lib/python3.8/dist-packages (from pingouin) (1.7.3)\n",
            "Requirement already satisfied: numpy>=1.19 in /usr/local/lib/python3.8/dist-packages (from pingouin) (1.21.6)\n",
            "Requirement already satisfied: matplotlib>=3.0.2 in /usr/local/lib/python3.8/dist-packages (from pingouin) (3.2.2)\n",
            "Requirement already satisfied: cycler>=0.10 in /usr/local/lib/python3.8/dist-packages (from matplotlib>=3.0.2->pingouin) (0.11.0)\n",
            "Requirement already satisfied: kiwisolver>=1.0.1 in /usr/local/lib/python3.8/dist-packages (from matplotlib>=3.0.2->pingouin) (1.4.4)\n",
            "Requirement already satisfied: pyparsing!=2.0.4,!=2.1.2,!=2.1.6,>=2.0.1 in /usr/local/lib/python3.8/dist-packages (from matplotlib>=3.0.2->pingouin) (3.0.9)\n",
            "Requirement already satisfied: python-dateutil>=2.1 in /usr/local/lib/python3.8/dist-packages (from matplotlib>=3.0.2->pingouin) (2.8.2)\n",
            "Requirement already satisfied: pytz>=2017.3 in /usr/local/lib/python3.8/dist-packages (from pandas>=1.0->pingouin) (2022.6)\n",
            "Requirement already satisfied: lazy-loader==0.1rc2 in /usr/local/lib/python3.8/dist-packages (from pandas-flavor>=0.2.0->pingouin) (0.1rc2)\n",
            "Requirement already satisfied: xarray in /usr/local/lib/python3.8/dist-packages (from pandas-flavor>=0.2.0->pingouin) (0.20.2)\n",
            "Requirement already satisfied: six>=1.5 in /usr/local/lib/python3.8/dist-packages (from python-dateutil>=2.1->matplotlib>=3.0.2->pingouin) (1.15.0)\n",
            "Requirement already satisfied: threadpoolctl>=2.0.0 in /usr/local/lib/python3.8/dist-packages (from scikit-learn<1.1.0->pingouin) (3.1.0)\n",
            "Requirement already satisfied: joblib>=0.11 in /usr/local/lib/python3.8/dist-packages (from scikit-learn<1.1.0->pingouin) (1.2.0)\n",
            "Requirement already satisfied: patsy>=0.5.2 in /usr/local/lib/python3.8/dist-packages (from statsmodels>=0.13->pingouin) (0.5.3)\n",
            "Requirement already satisfied: packaging>=21.3 in /usr/local/lib/python3.8/dist-packages (from statsmodels>=0.13->pingouin) (21.3)\n",
            "Requirement already satisfied: littleutils in /usr/local/lib/python3.8/dist-packages (from outdated->pingouin) (0.2.2)\n",
            "Requirement already satisfied: setuptools>=44 in /usr/local/lib/python3.8/dist-packages (from outdated->pingouin) (57.4.0)\n",
            "Requirement already satisfied: requests in /usr/local/lib/python3.8/dist-packages (from outdated->pingouin) (2.23.0)\n",
            "Requirement already satisfied: idna<3,>=2.5 in /usr/local/lib/python3.8/dist-packages (from requests->outdated->pingouin) (2.10)\n",
            "Requirement already satisfied: urllib3!=1.25.0,!=1.25.1,<1.26,>=1.21.1 in /usr/local/lib/python3.8/dist-packages (from requests->outdated->pingouin) (1.24.3)\n",
            "Requirement already satisfied: certifi>=2017.4.17 in /usr/local/lib/python3.8/dist-packages (from requests->outdated->pingouin) (2022.9.24)\n",
            "Requirement already satisfied: chardet<4,>=3.0.2 in /usr/local/lib/python3.8/dist-packages (from requests->outdated->pingouin) (3.0.4)\n"
          ]
        }
      ]
    },
    {
      "cell_type": "code",
      "execution_count": 2,
      "id": "3a5c4976-c93e-4427-bf5b-f2be03f85817",
      "metadata": {
        "id": "3a5c4976-c93e-4427-bf5b-f2be03f85817"
      },
      "outputs": [],
      "source": [
        "import numpy as np\n",
        "import pandas as pd\n",
        "import scipy.stats as st"
      ]
    },
    {
      "cell_type": "code",
      "execution_count": 3,
      "id": "c44a1522-0a58-457a-bb98-117ab309d978",
      "metadata": {
        "id": "c44a1522-0a58-457a-bb98-117ab309d978"
      },
      "outputs": [],
      "source": [
        "dataframe=pd.read_csv('/content/csv_result-bone-marrow.csv')"
      ]
    },
    {
      "cell_type": "code",
      "execution_count": 4,
      "id": "aea0a18b-8cf5-417c-99fb-6131a7fd680c",
      "metadata": {
        "colab": {
          "base_uri": "https://localhost:8080/",
          "height": 299
        },
        "id": "aea0a18b-8cf5-417c-99fb-6131a7fd680c",
        "outputId": "a7776eb6-d0f2-4593-8f21-924a61de9daa"
      },
      "outputs": [
        {
          "output_type": "execute_result",
          "data": {
            "text/plain": [
              "   id  Recipientgender  Stemcellsource   Donorage  Donorage35  IIIV  \\\n",
              "0   1                1               1  22.830137           0     1   \n",
              "1   2                1               0  23.342466           0     1   \n",
              "2   3                1               0  26.394521           0     1   \n",
              "3   4                0               0  39.684932           1     1   \n",
              "4   5                0               1  33.358904           0     0   \n",
              "\n",
              "   Gendermatch  DonorABO RecipientABO RecipientRh  ... extcGvHD CD34kgx10d6  \\\n",
              "0            0         1            1           1  ...        1        7.20   \n",
              "1            0        -1           -1           1  ...        1        4.50   \n",
              "2            0        -1           -1           1  ...        1        7.94   \n",
              "3            0         1            2           1  ...        ?        4.25   \n",
              "4            0         1            2           0  ...        1       51.85   \n",
              "\n",
              "    CD3dCD34 CD3dkgx10d8 Rbodymass  ANCrecovery  PLTrecovery  \\\n",
              "0    1.33876        5.38        35           19           51   \n",
              "1  11.078295        0.41      20.6           16           37   \n",
              "2   19.01323        0.42      23.4           23           20   \n",
              "3  29.481647        0.14        50           23           29   \n",
              "4   3.972255       13.05         9           14           14   \n",
              "\n",
              "   time_to_aGvHD_III_IV  survival_time  survival_status  \n",
              "0                    32            999                0  \n",
              "1               1000000            163                1  \n",
              "2               1000000            435                1  \n",
              "3                    19             53                1  \n",
              "4               1000000           2043                0  \n",
              "\n",
              "[5 rows x 38 columns]"
            ],
            "text/html": [
              "\n",
              "  <div id=\"df-adbc996b-2200-476a-b0db-90dd223ff1a9\">\n",
              "    <div class=\"colab-df-container\">\n",
              "      <div>\n",
              "<style scoped>\n",
              "    .dataframe tbody tr th:only-of-type {\n",
              "        vertical-align: middle;\n",
              "    }\n",
              "\n",
              "    .dataframe tbody tr th {\n",
              "        vertical-align: top;\n",
              "    }\n",
              "\n",
              "    .dataframe thead th {\n",
              "        text-align: right;\n",
              "    }\n",
              "</style>\n",
              "<table border=\"1\" class=\"dataframe\">\n",
              "  <thead>\n",
              "    <tr style=\"text-align: right;\">\n",
              "      <th></th>\n",
              "      <th>id</th>\n",
              "      <th>Recipientgender</th>\n",
              "      <th>Stemcellsource</th>\n",
              "      <th>Donorage</th>\n",
              "      <th>Donorage35</th>\n",
              "      <th>IIIV</th>\n",
              "      <th>Gendermatch</th>\n",
              "      <th>DonorABO</th>\n",
              "      <th>RecipientABO</th>\n",
              "      <th>RecipientRh</th>\n",
              "      <th>...</th>\n",
              "      <th>extcGvHD</th>\n",
              "      <th>CD34kgx10d6</th>\n",
              "      <th>CD3dCD34</th>\n",
              "      <th>CD3dkgx10d8</th>\n",
              "      <th>Rbodymass</th>\n",
              "      <th>ANCrecovery</th>\n",
              "      <th>PLTrecovery</th>\n",
              "      <th>time_to_aGvHD_III_IV</th>\n",
              "      <th>survival_time</th>\n",
              "      <th>survival_status</th>\n",
              "    </tr>\n",
              "  </thead>\n",
              "  <tbody>\n",
              "    <tr>\n",
              "      <th>0</th>\n",
              "      <td>1</td>\n",
              "      <td>1</td>\n",
              "      <td>1</td>\n",
              "      <td>22.830137</td>\n",
              "      <td>0</td>\n",
              "      <td>1</td>\n",
              "      <td>0</td>\n",
              "      <td>1</td>\n",
              "      <td>1</td>\n",
              "      <td>1</td>\n",
              "      <td>...</td>\n",
              "      <td>1</td>\n",
              "      <td>7.20</td>\n",
              "      <td>1.33876</td>\n",
              "      <td>5.38</td>\n",
              "      <td>35</td>\n",
              "      <td>19</td>\n",
              "      <td>51</td>\n",
              "      <td>32</td>\n",
              "      <td>999</td>\n",
              "      <td>0</td>\n",
              "    </tr>\n",
              "    <tr>\n",
              "      <th>1</th>\n",
              "      <td>2</td>\n",
              "      <td>1</td>\n",
              "      <td>0</td>\n",
              "      <td>23.342466</td>\n",
              "      <td>0</td>\n",
              "      <td>1</td>\n",
              "      <td>0</td>\n",
              "      <td>-1</td>\n",
              "      <td>-1</td>\n",
              "      <td>1</td>\n",
              "      <td>...</td>\n",
              "      <td>1</td>\n",
              "      <td>4.50</td>\n",
              "      <td>11.078295</td>\n",
              "      <td>0.41</td>\n",
              "      <td>20.6</td>\n",
              "      <td>16</td>\n",
              "      <td>37</td>\n",
              "      <td>1000000</td>\n",
              "      <td>163</td>\n",
              "      <td>1</td>\n",
              "    </tr>\n",
              "    <tr>\n",
              "      <th>2</th>\n",
              "      <td>3</td>\n",
              "      <td>1</td>\n",
              "      <td>0</td>\n",
              "      <td>26.394521</td>\n",
              "      <td>0</td>\n",
              "      <td>1</td>\n",
              "      <td>0</td>\n",
              "      <td>-1</td>\n",
              "      <td>-1</td>\n",
              "      <td>1</td>\n",
              "      <td>...</td>\n",
              "      <td>1</td>\n",
              "      <td>7.94</td>\n",
              "      <td>19.01323</td>\n",
              "      <td>0.42</td>\n",
              "      <td>23.4</td>\n",
              "      <td>23</td>\n",
              "      <td>20</td>\n",
              "      <td>1000000</td>\n",
              "      <td>435</td>\n",
              "      <td>1</td>\n",
              "    </tr>\n",
              "    <tr>\n",
              "      <th>3</th>\n",
              "      <td>4</td>\n",
              "      <td>0</td>\n",
              "      <td>0</td>\n",
              "      <td>39.684932</td>\n",
              "      <td>1</td>\n",
              "      <td>1</td>\n",
              "      <td>0</td>\n",
              "      <td>1</td>\n",
              "      <td>2</td>\n",
              "      <td>1</td>\n",
              "      <td>...</td>\n",
              "      <td>?</td>\n",
              "      <td>4.25</td>\n",
              "      <td>29.481647</td>\n",
              "      <td>0.14</td>\n",
              "      <td>50</td>\n",
              "      <td>23</td>\n",
              "      <td>29</td>\n",
              "      <td>19</td>\n",
              "      <td>53</td>\n",
              "      <td>1</td>\n",
              "    </tr>\n",
              "    <tr>\n",
              "      <th>4</th>\n",
              "      <td>5</td>\n",
              "      <td>0</td>\n",
              "      <td>1</td>\n",
              "      <td>33.358904</td>\n",
              "      <td>0</td>\n",
              "      <td>0</td>\n",
              "      <td>0</td>\n",
              "      <td>1</td>\n",
              "      <td>2</td>\n",
              "      <td>0</td>\n",
              "      <td>...</td>\n",
              "      <td>1</td>\n",
              "      <td>51.85</td>\n",
              "      <td>3.972255</td>\n",
              "      <td>13.05</td>\n",
              "      <td>9</td>\n",
              "      <td>14</td>\n",
              "      <td>14</td>\n",
              "      <td>1000000</td>\n",
              "      <td>2043</td>\n",
              "      <td>0</td>\n",
              "    </tr>\n",
              "  </tbody>\n",
              "</table>\n",
              "<p>5 rows × 38 columns</p>\n",
              "</div>\n",
              "      <button class=\"colab-df-convert\" onclick=\"convertToInteractive('df-adbc996b-2200-476a-b0db-90dd223ff1a9')\"\n",
              "              title=\"Convert this dataframe to an interactive table.\"\n",
              "              style=\"display:none;\">\n",
              "        \n",
              "  <svg xmlns=\"http://www.w3.org/2000/svg\" height=\"24px\"viewBox=\"0 0 24 24\"\n",
              "       width=\"24px\">\n",
              "    <path d=\"M0 0h24v24H0V0z\" fill=\"none\"/>\n",
              "    <path d=\"M18.56 5.44l.94 2.06.94-2.06 2.06-.94-2.06-.94-.94-2.06-.94 2.06-2.06.94zm-11 1L8.5 8.5l.94-2.06 2.06-.94-2.06-.94L8.5 2.5l-.94 2.06-2.06.94zm10 10l.94 2.06.94-2.06 2.06-.94-2.06-.94-.94-2.06-.94 2.06-2.06.94z\"/><path d=\"M17.41 7.96l-1.37-1.37c-.4-.4-.92-.59-1.43-.59-.52 0-1.04.2-1.43.59L10.3 9.45l-7.72 7.72c-.78.78-.78 2.05 0 2.83L4 21.41c.39.39.9.59 1.41.59.51 0 1.02-.2 1.41-.59l7.78-7.78 2.81-2.81c.8-.78.8-2.07 0-2.86zM5.41 20L4 18.59l7.72-7.72 1.47 1.35L5.41 20z\"/>\n",
              "  </svg>\n",
              "      </button>\n",
              "      \n",
              "  <style>\n",
              "    .colab-df-container {\n",
              "      display:flex;\n",
              "      flex-wrap:wrap;\n",
              "      gap: 12px;\n",
              "    }\n",
              "\n",
              "    .colab-df-convert {\n",
              "      background-color: #E8F0FE;\n",
              "      border: none;\n",
              "      border-radius: 50%;\n",
              "      cursor: pointer;\n",
              "      display: none;\n",
              "      fill: #1967D2;\n",
              "      height: 32px;\n",
              "      padding: 0 0 0 0;\n",
              "      width: 32px;\n",
              "    }\n",
              "\n",
              "    .colab-df-convert:hover {\n",
              "      background-color: #E2EBFA;\n",
              "      box-shadow: 0px 1px 2px rgba(60, 64, 67, 0.3), 0px 1px 3px 1px rgba(60, 64, 67, 0.15);\n",
              "      fill: #174EA6;\n",
              "    }\n",
              "\n",
              "    [theme=dark] .colab-df-convert {\n",
              "      background-color: #3B4455;\n",
              "      fill: #D2E3FC;\n",
              "    }\n",
              "\n",
              "    [theme=dark] .colab-df-convert:hover {\n",
              "      background-color: #434B5C;\n",
              "      box-shadow: 0px 1px 3px 1px rgba(0, 0, 0, 0.15);\n",
              "      filter: drop-shadow(0px 1px 2px rgba(0, 0, 0, 0.3));\n",
              "      fill: #FFFFFF;\n",
              "    }\n",
              "  </style>\n",
              "\n",
              "      <script>\n",
              "        const buttonEl =\n",
              "          document.querySelector('#df-adbc996b-2200-476a-b0db-90dd223ff1a9 button.colab-df-convert');\n",
              "        buttonEl.style.display =\n",
              "          google.colab.kernel.accessAllowed ? 'block' : 'none';\n",
              "\n",
              "        async function convertToInteractive(key) {\n",
              "          const element = document.querySelector('#df-adbc996b-2200-476a-b0db-90dd223ff1a9');\n",
              "          const dataTable =\n",
              "            await google.colab.kernel.invokeFunction('convertToInteractive',\n",
              "                                                     [key], {});\n",
              "          if (!dataTable) return;\n",
              "\n",
              "          const docLinkHtml = 'Like what you see? Visit the ' +\n",
              "            '<a target=\"_blank\" href=https://colab.research.google.com/notebooks/data_table.ipynb>data table notebook</a>'\n",
              "            + ' to learn more about interactive tables.';\n",
              "          element.innerHTML = '';\n",
              "          dataTable['output_type'] = 'display_data';\n",
              "          await google.colab.output.renderOutput(dataTable, element);\n",
              "          const docLink = document.createElement('div');\n",
              "          docLink.innerHTML = docLinkHtml;\n",
              "          element.appendChild(docLink);\n",
              "        }\n",
              "      </script>\n",
              "    </div>\n",
              "  </div>\n",
              "  "
            ]
          },
          "metadata": {},
          "execution_count": 4
        }
      ],
      "source": [
        "dataframe.head(5)"
      ]
    },
    {
      "cell_type": "code",
      "execution_count": 5,
      "id": "f6842294-0486-4475-90ce-9a2d000e5cd4",
      "metadata": {
        "colab": {
          "base_uri": "https://localhost:8080/"
        },
        "id": "f6842294-0486-4475-90ce-9a2d000e5cd4",
        "outputId": "91602e61-9b72-4e6b-f3cb-fcf50258e79e"
      },
      "outputs": [
        {
          "output_type": "execute_result",
          "data": {
            "text/plain": [
              "187"
            ]
          },
          "metadata": {},
          "execution_count": 5
        }
      ],
      "source": [
        "len(dataframe)"
      ]
    },
    {
      "cell_type": "code",
      "source": [
        "column_list=list(dataframe.columns)\n",
        "for i in range (dataframe.shape[1]):\n",
        "    dataframe[column_list[i]] = dataframe[column_list[i]].apply(lambda x: np.nan if x == '?' else x) "
      ],
      "metadata": {
        "id": "ivh1IEhxKs5b"
      },
      "id": "ivh1IEhxKs5b",
      "execution_count": 6,
      "outputs": []
    },
    {
      "cell_type": "code",
      "execution_count": 7,
      "id": "58099cf0-2c33-4739-903f-0d5451733b35",
      "metadata": {
        "colab": {
          "base_uri": "https://localhost:8080/"
        },
        "id": "58099cf0-2c33-4739-903f-0d5451733b35",
        "outputId": "16aae411-4f19-4861-fee8-51a80070f243"
      },
      "outputs": [
        {
          "output_type": "stream",
          "name": "stdout",
          "text": [
            "0\n",
            "2\n"
          ]
        }
      ],
      "source": [
        "print(dataframe.survival_time.isnull().sum())\n",
        "print(dataframe.Rbodymass.isnull().sum())"
      ]
    },
    {
      "cell_type": "code",
      "source": [
        "#there are several data points are outlier here\n",
        "#so imputation method will be median\n",
        "\n",
        "dataframe['Rbodymass']=dataframe['Rbodymass'].fillna(dataframe['Rbodymass'].astype(float).mean())"
      ],
      "metadata": {
        "id": "PRDjYOXPK41d"
      },
      "id": "PRDjYOXPK41d",
      "execution_count": 8,
      "outputs": []
    },
    {
      "cell_type": "code",
      "execution_count": 9,
      "id": "df74faec-e476-4f18-bb09-fdaa40c5adda",
      "metadata": {
        "id": "df74faec-e476-4f18-bb09-fdaa40c5adda"
      },
      "outputs": [],
      "source": [
        "# As our sample is only 187 we can not take 100 and 200 random samples as stated in project final\n",
        "#But we will maintain the ratio of 1:2\n",
        "#for test1 we will take 63 samples\n",
        "#for test2 we will take 126 samples"
      ]
    },
    {
      "cell_type": "markdown",
      "id": "aa558e55-e9a8-43a4-8069-efeb1c6bb7c0",
      "metadata": {
        "id": "aa558e55-e9a8-43a4-8069-efeb1c6bb7c0"
      },
      "source": [
        "###Variable 'Survival Time'"
      ]
    },
    {
      "cell_type": "markdown",
      "source": [
        "####Task 1"
      ],
      "metadata": {
        "id": "TbioocanTMj9"
      },
      "id": "TbioocanTMj9"
    },
    {
      "cell_type": "code",
      "execution_count": 10,
      "id": "1faf45e1-e978-452c-ace1-dae0b070977f",
      "metadata": {
        "id": "1faf45e1-e978-452c-ace1-dae0b070977f"
      },
      "outputs": [],
      "source": [
        "#taking 63 samples\n",
        "df_test1=dataframe.sample(n=63, random_state=1)\n",
        "df_test1.to_csv('test1_data.csv')"
      ]
    },
    {
      "cell_type": "code",
      "execution_count": 11,
      "id": "b9ac2be8-c4de-442d-b4ba-e40199e5c7e1",
      "metadata": {
        "colab": {
          "base_uri": "https://localhost:8080/"
        },
        "id": "b9ac2be8-c4de-442d-b4ba-e40199e5c7e1",
        "outputId": "ba55171d-3020-4c31-d5fd-7aa55c48298b"
      },
      "outputs": [
        {
          "output_type": "execute_result",
          "data": {
            "text/plain": [
              "16       58\n",
              "172      31\n",
              "127    1301\n",
              "40     1376\n",
              "106      68\n",
              "       ... \n",
              "28     1041\n",
              "44     1327\n",
              "91      136\n",
              "33     1084\n",
              "51     2926\n",
              "Name: survival_time, Length: 63, dtype: int64"
            ]
          },
          "metadata": {},
          "execution_count": 11
        }
      ],
      "source": [
        "data1 = df_test1.survival_time\n",
        "df_test1['survival_time']"
      ]
    },
    {
      "cell_type": "code",
      "execution_count": 12,
      "id": "5cf445e6-39f8-4647-929a-5b8747502e9b",
      "metadata": {
        "colab": {
          "base_uri": "https://localhost:8080/"
        },
        "id": "5cf445e6-39f8-4647-929a-5b8747502e9b",
        "outputId": "f75405bf-2cda-40e1-a824-6c975953f74c"
      },
      "outputs": [
        {
          "output_type": "stream",
          "name": "stdout",
          "text": [
            "Proportion: 0.38095238095238093\n",
            "No of successess 24.0\n",
            "Mean of 63 random samples: 999.2380952380952\n"
          ]
        }
      ],
      "source": [
        "#finding mean and proportion\n",
        "proportion=df_test1['survival_status'].sum()/len(df_test1['survival_status'])\n",
        "print('Proportion:', proportion)\n",
        "print('No of successess',proportion*len(df_test1['survival_status']))\n",
        "\n",
        "mean = data1.mean()\n",
        "print('Mean of 63 random samples:', mean)"
      ]
    },
    {
      "cell_type": "code",
      "source": [
        "from statsmodels.stats.weightstats import ztest as ztest\n",
        "ztest(df_test1['survival_status'], value=0.38095)"
      ],
      "metadata": {
        "colab": {
          "base_uri": "https://localhost:8080/"
        },
        "id": "bMN5PPtGRgz2",
        "outputId": "4cf1a3d6-3e37-48df-b7c3-5c0425bbbf14"
      },
      "id": "bMN5PPtGRgz2",
      "execution_count": 46,
      "outputs": [
        {
          "output_type": "execute_result",
          "data": {
            "text/plain": [
              "(3.860549980695205e-05, 0.9999691972677496)"
            ]
          },
          "metadata": {},
          "execution_count": 46
        }
      ]
    },
    {
      "cell_type": "code",
      "source": [
        "#hypothesis testing for proportion\n",
        "from statsmodels.stats.proportion import proportions_ztest\n",
        "zstat,pval = proportions_ztest(count=24, nobs=63, value= 0.5)\n",
        "print('Test Statistic z: ',zstat,'\\nP-Value: ',pval)"
      ],
      "metadata": {
        "colab": {
          "base_uri": "https://localhost:8080/"
        },
        "id": "v5uozW066GCX",
        "outputId": "2c7983a9-003d-4340-ea20-12d4ea7039ca"
      },
      "id": "v5uozW066GCX",
      "execution_count": 41,
      "outputs": [
        {
          "output_type": "stream",
          "name": "stdout",
          "text": [
            "Test Statistic z:  -1.9457794562353912 \n",
            "P-Value:  0.051681237403116684\n"
          ]
        }
      ]
    },
    {
      "cell_type": "code",
      "source": [
        "#hypothesis testing for mean\n",
        "from scipy.stats import ttest_1samp\n",
        "tstat, pval = ttest_1samp(df_test1['survival_time'], 1000, alternative='greater')\n",
        "print('Test Statistic t: ',tstat,'\\nP-Value: ',pval)"
      ],
      "metadata": {
        "colab": {
          "base_uri": "https://localhost:8080/"
        },
        "id": "J14uidNE6PLY",
        "outputId": "ab3efcb6-c579-4e88-ac5c-a10daaba2135"
      },
      "id": "J14uidNE6PLY",
      "execution_count": 14,
      "outputs": [
        {
          "output_type": "stream",
          "name": "stdout",
          "text": [
            "Test Statistic t:  -0.007300771595359617 \n",
            "P-Value:  0.502900840136494\n"
          ]
        }
      ]
    },
    {
      "cell_type": "code",
      "source": [
        "#finding Confidence interval (as this variable has not showed a normal\n",
        "#distribution, we will perform t distribution to find confidence interval\n",
        "print('90% confidence interval  for proportion: ',st.t.interval(alpha=0.90, df=len(data1)-1, loc=np.mean(df_test1['survival_status']), scale=st.sem(df_test1['survival_status'])) )\n",
        "print('90% confidence interval for mean: ',st.t.interval(alpha=0.90, df=len(data1)-1, loc=np.mean(data1), scale=st.sem(data1)) )"
      ],
      "metadata": {
        "colab": {
          "base_uri": "https://localhost:8080/"
        },
        "id": "ltUPCNEz2tqO",
        "outputId": "6b9e2779-eee8-4be8-d8af-7c5277d91ddd"
      },
      "id": "ltUPCNEz2tqO",
      "execution_count": 15,
      "outputs": [
        {
          "output_type": "stream",
          "name": "stdout",
          "text": [
            "90% confidence interval  for proportion:  (0.27796901806959384, 0.483935743835168)\n",
            "90% confidence interval for mean:  (824.9781932421417, 1173.4979972340486)\n"
          ]
        }
      ]
    },
    {
      "cell_type": "markdown",
      "source": [
        "####Task 2"
      ],
      "metadata": {
        "id": "qePpXa4enaNz"
      },
      "id": "qePpXa4enaNz"
    },
    {
      "cell_type": "code",
      "source": [
        "#taking 126 samples\n",
        "df_test2=dataframe.sample(n=126, random_state=1)\n",
        "df_test2.to_csv('test2_data.csv')"
      ],
      "metadata": {
        "id": "_jNBFKmjnuUb"
      },
      "id": "_jNBFKmjnuUb",
      "execution_count": 16,
      "outputs": []
    },
    {
      "cell_type": "code",
      "source": [
        "data2 = df_test2.survival_time\n",
        "df_test2['survival_time']"
      ],
      "metadata": {
        "colab": {
          "base_uri": "https://localhost:8080/"
        },
        "id": "IFx8ec4bolov",
        "outputId": "28c7f38d-ef35-490c-8651-5c9b28d3495b"
      },
      "id": "IFx8ec4bolov",
      "execution_count": 17,
      "outputs": [
        {
          "output_type": "execute_result",
          "data": {
            "text/plain": [
              "16       58\n",
              "172      31\n",
              "127    1301\n",
              "40     1376\n",
              "106      68\n",
              "       ... \n",
              "173    1243\n",
              "186    1109\n",
              "27       35\n",
              "100    2286\n",
              "23      149\n",
              "Name: survival_time, Length: 126, dtype: int64"
            ]
          },
          "metadata": {},
          "execution_count": 17
        }
      ]
    },
    {
      "cell_type": "code",
      "source": [
        "#finding mean and proportion\n",
        "proportion=df_test2['survival_status'].sum()/len(df_test2['survival_status'])\n",
        "print('Proportion:', proportion)\n",
        "print('No of successess',proportion*len(df_test2['survival_status']))\n",
        "\n",
        "mean = data2.mean()\n",
        "print('Mean of 126 random samples:', mean)"
      ],
      "metadata": {
        "colab": {
          "base_uri": "https://localhost:8080/"
        },
        "id": "qNv1eXybn2jI",
        "outputId": "f30ef823-444b-4c09-844c-9ed1f8e363f8"
      },
      "id": "qNv1eXybn2jI",
      "execution_count": 18,
      "outputs": [
        {
          "output_type": "stream",
          "name": "stdout",
          "text": [
            "Proportion: 0.4365079365079365\n",
            "No of successess 55.0\n",
            "Mean of 126 random samples: 955.436507936508\n"
          ]
        }
      ]
    },
    {
      "cell_type": "code",
      "source": [
        "# compare two sample proportions using hypothesis test \n",
        "import pingouin as pg\n",
        "res = pg.ttest(df_test1['survival_status'], df_test2['survival_status'], paired=False)\n",
        "\n",
        "# test statistic, P-value, Confidence Interval\n",
        "print('Hypothesis testing proportion two samples results:\\n\\n',res)"
      ],
      "metadata": {
        "colab": {
          "base_uri": "https://localhost:8080/"
        },
        "id": "AQUek02w7tCj",
        "outputId": "1b41a43f-1d04-4d9e-aaf6-3dd39068da81"
      },
      "id": "AQUek02w7tCj",
      "execution_count": 19,
      "outputs": [
        {
          "output_type": "stream",
          "name": "stdout",
          "text": [
            "Hypothesis testing proportion two samples results:\n",
            "\n",
            "                T         dof alternative     p-val          CI95%   cohen-d  \\\n",
            "T-test -0.731284  126.014177   two-sided  0.465963  [-0.21, 0.09]  0.112197   \n",
            "\n",
            "         BF10     power  \n",
            "T-test  0.214  0.111768  \n"
          ]
        }
      ]
    },
    {
      "cell_type": "code",
      "source": [
        "# compare two sample means using hypothesis test\n",
        "res = pg.ttest(df_test1['survival_time'], df_test2['survival_time'], paired=False)\n",
        "\n",
        "# test statistics, P-value, Confidence Interval\n",
        "print('Hypothesis testing mean two samples results:\\n',res)"
      ],
      "metadata": {
        "colab": {
          "base_uri": "https://localhost:8080/"
        },
        "id": "6vv03UJA76S_",
        "outputId": "fe502c7b-c70e-4e15-e815-049a18418bc3"
      },
      "id": "6vv03UJA76S_",
      "execution_count": 20,
      "outputs": [
        {
          "output_type": "stream",
          "name": "stdout",
          "text": [
            "Hypothesis testing mean two samples results:\n",
            "                T         dof alternative    p-val              CI95%  \\\n",
            "T-test  0.344865  122.013921   two-sided  0.73079  [-207.63, 295.23]   \n",
            "\n",
            "         cohen-d   BF10     power  \n",
            "T-test  0.053556  0.176  0.063768  \n"
          ]
        }
      ]
    },
    {
      "cell_type": "markdown",
      "source": [
        "####Task 3"
      ],
      "metadata": {
        "id": "jpHmS-_9qp4Z"
      },
      "id": "jpHmS-_9qp4Z"
    },
    {
      "cell_type": "code",
      "source": [
        "#finding correlation\n",
        "r, p = st.pearsonr(dataframe['survival_time'],dataframe['survival_status'])\n",
        "print('Correlation between survival_time and survival_status:\\n(r,p) = ',r,p)"
      ],
      "metadata": {
        "colab": {
          "base_uri": "https://localhost:8080/"
        },
        "id": "jyITITbAqvhT",
        "outputId": "40a46f2c-49bb-495f-bb62-e57486608a12"
      },
      "id": "jyITITbAqvhT",
      "execution_count": 62,
      "outputs": [
        {
          "output_type": "stream",
          "name": "stdout",
          "text": [
            "Correlation between survival_time and survival_status:\n",
            "(r,p) =  -0.7614615378274371 1.1268686471213073e-36\n"
          ]
        }
      ]
    },
    {
      "cell_type": "code",
      "source": [
        "#getting confidence interval for correlation\n",
        "r_z = np.arctanh(r)\n",
        "se = 1/np.sqrt(dataframe['survival_time'].size-3)\n",
        "alpha = 0.05\n",
        "z = st.norm.ppf(1-alpha/2)\n",
        "lo_z, hi_z = r_z-z*se, r_z+z*se\n",
        "lo, hi = np.tanh((lo_z, hi_z))\n",
        "print('Confidence Interval:',(lo,hi))"
      ],
      "metadata": {
        "colab": {
          "base_uri": "https://localhost:8080/"
        },
        "id": "uBuBNZom3jkf",
        "outputId": "c0c092c3-d96f-4c86-ce66-54ebdb7f7340"
      },
      "id": "uBuBNZom3jkf",
      "execution_count": 63,
      "outputs": [
        {
          "output_type": "stream",
          "name": "stdout",
          "text": [
            "Confidence Interval: (-0.8158150882563996, -0.6937731212672271)\n"
          ]
        }
      ]
    },
    {
      "cell_type": "markdown",
      "source": [
        "####Task 4"
      ],
      "metadata": {
        "id": "5rmYCToY8SuF"
      },
      "id": "5rmYCToY8SuF"
    },
    {
      "cell_type": "code",
      "source": [
        "# plotting Regression Line\n",
        "import seaborn as sns\n",
        "import matplotlib.pyplot as plt\n",
        "X=dataframe['survival_time']\n",
        "y=dataframe['survival_status']\n",
        "sns.regplot(x=X, y=y, data=dataframe, ci=95)\n",
        "\n",
        "plt.title('Regression Line for survival_time vs survival_status\\n')\n",
        "plt.show()"
      ],
      "metadata": {
        "colab": {
          "base_uri": "https://localhost:8080/",
          "height": 311
        },
        "id": "cA_Bx7lc8W8A",
        "outputId": "116e0825-7218-45da-b91e-9006aa716ec9"
      },
      "id": "cA_Bx7lc8W8A",
      "execution_count": 23,
      "outputs": [
        {
          "output_type": "display_data",
          "data": {
            "text/plain": [
              "<Figure size 432x288 with 1 Axes>"
            ],
            "image/png": "[encoded data removed]"
          },
          "metadata": {
            "needs_background": "light"
          }
        }
      ]
    },
    {
      "cell_type": "code",
      "source": [
        "# plotting Residual\n",
        "sns.residplot(x=X, y=y, order=1,\n",
        "   data=dataframe, scatter_kws={'color': 'r',\n",
        "   'alpha': 0.5})\n",
        "plt.title('Residual for survival_time vs survival_status\\n')\n",
        "plt.show()"
      ],
      "metadata": {
        "colab": {
          "base_uri": "https://localhost:8080/",
          "height": 311
        },
        "id": "fnLFqdGb9AVY",
        "outputId": "e8450709-2fad-49e7-c188-52e2eddb0b66"
      },
      "id": "fnLFqdGb9AVY",
      "execution_count": 24,
      "outputs": [
        {
          "output_type": "display_data",
          "data": {
            "text/plain": [
              "<Figure size 432x288 with 1 Axes>"
            ],
            "image/png": "[encoded data removed]"
          },
          "metadata": {
            "needs_background": "light"
          }
        }
      ]
    },
    {
      "cell_type": "markdown",
      "source": [
        "###Rbodymass"
      ],
      "metadata": {
        "id": "rjCBMW3trVGh"
      },
      "id": "rjCBMW3trVGh"
    },
    {
      "cell_type": "markdown",
      "source": [
        "####Task 1"
      ],
      "metadata": {
        "id": "0O9ZeBT3I26J"
      },
      "id": "0O9ZeBT3I26J"
    },
    {
      "cell_type": "code",
      "source": [
        "#taking 63 samples\n",
        "df_test1=dataframe.sample(n=63, random_state=1)\n",
        "df_test1.to_csv('test1_data.csv')"
      ],
      "metadata": {
        "id": "YpAlU5yoI_Yn"
      },
      "id": "YpAlU5yoI_Yn",
      "execution_count": 25,
      "outputs": []
    },
    {
      "cell_type": "code",
      "source": [
        "data1 = df_test1.Rbodymass.astype(float)\n",
        "df_test1['Rbodymass']"
      ],
      "metadata": {
        "colab": {
          "base_uri": "https://localhost:8080/"
        },
        "id": "s8YgzQLHJARp",
        "outputId": "4623cba0-172d-4bfa-f849-50c641664912"
      },
      "id": "s8YgzQLHJARp",
      "execution_count": 26,
      "outputs": [
        {
          "output_type": "execute_result",
          "data": {
            "text/plain": [
              "16     97.8\n",
              "172    11.2\n",
              "127      12\n",
              "40       48\n",
              "106    55.2\n",
              "       ... \n",
              "28     14.3\n",
              "44     41.4\n",
              "91       70\n",
              "33     49.6\n",
              "51     28.5\n",
              "Name: Rbodymass, Length: 63, dtype: object"
            ]
          },
          "metadata": {},
          "execution_count": 26
        }
      ]
    },
    {
      "cell_type": "code",
      "source": [
        "#finding mean and proportion\n",
        "proportion=df_test1['survival_status'].sum()/len(df_test1['survival_status'])\n",
        "print('Proportion:', proportion)\n",
        "print('No of successess',proportion*len(df_test1['survival_status']))\n",
        "\n",
        "mean = data1.mean()\n",
        "print('Mean of 63 random samples:', mean)"
      ],
      "metadata": {
        "colab": {
          "base_uri": "https://localhost:8080/"
        },
        "id": "-XsN2Ld0JIRy",
        "outputId": "264a1d55-dbc6-4b7d-ece9-495d9ddd0153"
      },
      "id": "-XsN2Ld0JIRy",
      "execution_count": 27,
      "outputs": [
        {
          "output_type": "stream",
          "name": "stdout",
          "text": [
            "Proportion: 0.38095238095238093\n",
            "No of successess 24.0\n",
            "Mean of 63 random samples: 37.01190476190476\n"
          ]
        }
      ]
    },
    {
      "cell_type": "code",
      "source": [
        "#hypothesis testing for mean\n",
        "from scipy.stats import ttest_1samp\n",
        "tstat, pval = ttest_1samp(data1, 30, alternative='greater')\n",
        "print('Test Statistic t: ',tstat,'\\nP-Value: ',pval)"
      ],
      "metadata": {
        "colab": {
          "base_uri": "https://localhost:8080/"
        },
        "id": "IAVKv7zEM3EX",
        "outputId": "9556afca-736b-4441-e30d-e852b9b4bf40"
      },
      "id": "IAVKv7zEM3EX",
      "execution_count": 28,
      "outputs": [
        {
          "output_type": "stream",
          "name": "stdout",
          "text": [
            "Test Statistic t:  2.8432525495642262 \n",
            "P-Value:  0.003019886289794049\n"
          ]
        }
      ]
    },
    {
      "cell_type": "code",
      "source": [
        "#finding Confidence interval (as this variable has not showed a normal\n",
        "#distribution, we will perform t distribution to find confidence interval\n",
        "print('90% confidence interval  for proportion: ',st.t.interval(alpha=0.90, df=len(data1)-1, loc=np.mean(df_test1['survival_status']), scale=st.sem(df_test1['survival_status'])) )\n",
        "print('90% confidence interval for mean: ',st.t.interval(alpha=0.90, df=len(data1)-1, loc=np.mean(data1), scale=st.sem(data1)) )"
      ],
      "metadata": {
        "colab": {
          "base_uri": "https://localhost:8080/"
        },
        "id": "nVBPFxJ94YWm",
        "outputId": "b43c9f9c-e3a2-425c-91f0-1bbe0d887d65"
      },
      "id": "nVBPFxJ94YWm",
      "execution_count": 29,
      "outputs": [
        {
          "output_type": "stream",
          "name": "stdout",
          "text": [
            "90% confidence interval  for proportion:  (0.27796901806959384, 0.483935743835168)\n",
            "90% confidence interval for mean:  (32.893906957295414, 41.129902566514104)\n"
          ]
        }
      ]
    },
    {
      "cell_type": "markdown",
      "source": [
        "####Task 2"
      ],
      "metadata": {
        "id": "IAQlA8YBI38t"
      },
      "id": "IAQlA8YBI38t"
    },
    {
      "cell_type": "code",
      "source": [
        "#taking 126 samples\n",
        "df_test2=dataframe.sample(n=126, random_state=1)\n",
        "df_test2.to_csv('test2_data.csv')"
      ],
      "metadata": {
        "id": "A4SrbljPJVfY"
      },
      "id": "A4SrbljPJVfY",
      "execution_count": 30,
      "outputs": []
    },
    {
      "cell_type": "code",
      "source": [
        "data2 = df_test2.Rbodymass.astype(float)\n",
        "df_test2['Rbodymass']"
      ],
      "metadata": {
        "colab": {
          "base_uri": "https://localhost:8080/"
        },
        "id": "g_pePJoTJWpk",
        "outputId": "0dc4c521-4f7d-4757-9600-a918ee412f01"
      },
      "id": "g_pePJoTJWpk",
      "execution_count": 31,
      "outputs": [
        {
          "output_type": "execute_result",
          "data": {
            "text/plain": [
              "16     97.8\n",
              "172    11.2\n",
              "127      12\n",
              "40       48\n",
              "106    55.2\n",
              "       ... \n",
              "173    50.8\n",
              "186      37\n",
              "27       17\n",
              "100      33\n",
              "23     39.3\n",
              "Name: Rbodymass, Length: 126, dtype: object"
            ]
          },
          "metadata": {},
          "execution_count": 31
        }
      ]
    },
    {
      "cell_type": "code",
      "source": [
        "#finding mean and proportion\n",
        "proportion=df_test2['survival_status'].sum()/len(df_test2['survival_status'])\n",
        "print('Proportion:', proportion)\n",
        "print('No of successess',proportion*len(df_test2['survival_status']))\n",
        "\n",
        "mean = data2.mean()\n",
        "print('Mean of 126 random samples:', mean)"
      ],
      "metadata": {
        "colab": {
          "base_uri": "https://localhost:8080/"
        },
        "id": "qCzU2vPtJcux",
        "outputId": "de584a86-6f82-4b44-d0f8-435ebb1fed51"
      },
      "id": "qCzU2vPtJcux",
      "execution_count": 32,
      "outputs": [
        {
          "output_type": "stream",
          "name": "stdout",
          "text": [
            "Proportion: 0.4365079365079365\n",
            "No of successess 55.0\n",
            "Mean of 126 random samples: 36.484144144144146\n"
          ]
        }
      ]
    },
    {
      "cell_type": "code",
      "source": [
        "# compare two sample proportions using hypothesis test \n",
        "import pingouin as pg\n",
        "res = pg.ttest(df_test1['survival_status'], df_test2['survival_status'], paired=False)\n",
        "\n",
        "# test statistic, P-value, Confidence Interval\n",
        "print('Hypothesis testing proportion two samples results:\\n\\n',res)"
      ],
      "metadata": {
        "colab": {
          "base_uri": "https://localhost:8080/"
        },
        "id": "v8IloNLvKLXa",
        "outputId": "2ea68e77-f773-498d-f0c1-f151addcd56e"
      },
      "id": "v8IloNLvKLXa",
      "execution_count": 33,
      "outputs": [
        {
          "output_type": "stream",
          "name": "stdout",
          "text": [
            "Hypothesis testing proportion two samples results:\n",
            "\n",
            "                T         dof alternative     p-val          CI95%   cohen-d  \\\n",
            "T-test -0.731284  126.014177   two-sided  0.465963  [-0.21, 0.09]  0.112197   \n",
            "\n",
            "         BF10     power  \n",
            "T-test  0.214  0.111768  \n"
          ]
        }
      ]
    },
    {
      "cell_type": "code",
      "source": [
        "# compare two sample means using hypothesis test\n",
        "res = pg.ttest(df_test1['Rbodymass'].astype(float), df_test2['Rbodymass'].astype(float), paired=False)\n",
        "\n",
        "# test statistics, P-value, Confidence Interval\n",
        "print('Hypothesis testing mean two samples results:\\n',res)"
      ],
      "metadata": {
        "colab": {
          "base_uri": "https://localhost:8080/"
        },
        "id": "Qb4Y8uQrKPEH",
        "outputId": "73b476d2-ef8c-4180-9e61-b33b971429f5"
      },
      "id": "Qb4Y8uQrKPEH",
      "execution_count": 34,
      "outputs": [
        {
          "output_type": "stream",
          "name": "stdout",
          "text": [
            "Hypothesis testing mean two samples results:\n",
            "                T        dof alternative     p-val          CI95%   cohen-d  \\\n",
            "T-test  0.175564  122.52947   two-sided  0.860926  [-5.42, 6.48]  0.027221   \n",
            "\n",
            "         BF10     power  \n",
            "T-test  0.169  0.053536  \n"
          ]
        }
      ]
    },
    {
      "cell_type": "code",
      "source": [
        "#finding Confidence interval (as this variable has not showed a normal\n",
        "#distribution, we will perform t distribution to find confidence interval\n",
        "print('95% confidence interval  for proportion: ',st.t.interval(alpha=0.95, df=len(data2)-1, loc=np.mean(df_test2['survival_status']), scale=st.sem(df_test2['survival_status'])) )\n",
        "print('95% confidence interval for mean: ',st.t.interval(alpha=0.95, df=len(data2)-1, loc=np.mean(data2), scale=st.sem(data2)) )"
      ],
      "metadata": {
        "colab": {
          "base_uri": "https://localhost:8080/"
        },
        "id": "2mmcHcd64grF",
        "outputId": "3083da87-9cf1-4901-8648-6cbdc1b91428"
      },
      "id": "2mmcHcd64grF",
      "execution_count": 35,
      "outputs": [
        {
          "output_type": "stream",
          "name": "stdout",
          "text": [
            "95% confidence interval  for proportion:  (0.3487153191487252, 0.5243005538671478)\n",
            "95% confidence interval for mean:  (33.082207636688715, 39.88608065159958)\n"
          ]
        }
      ]
    },
    {
      "cell_type": "markdown",
      "source": [
        "####Task 3"
      ],
      "metadata": {
        "id": "2naq70ncI4mq"
      },
      "id": "2naq70ncI4mq"
    },
    {
      "cell_type": "code",
      "source": [
        "data3 = dataframe['Rbodymass'].astype(float)"
      ],
      "metadata": {
        "id": "zPqT7b9q5iBF"
      },
      "id": "zPqT7b9q5iBF",
      "execution_count": 59,
      "outputs": []
    },
    {
      "cell_type": "code",
      "source": [
        "#finding correlation\n",
        "r, p = st.pearsonr(data3,dataframe['survival_status'])\n",
        "print('Correlation between Rbodymass and survival_status:\\n(r,p) = ',r,p)"
      ],
      "metadata": {
        "colab": {
          "base_uri": "https://localhost:8080/"
        },
        "id": "PJfu0WTVJkUF",
        "outputId": "452a27b3-f26f-4a8f-d240-627e26bdd518"
      },
      "id": "PJfu0WTVJkUF",
      "execution_count": 60,
      "outputs": [
        {
          "output_type": "stream",
          "name": "stdout",
          "text": [
            "Correlation between Rbodymass and survival_status:\n",
            "(r,p) =  0.23655997990356945 0.0011156578031756566\n"
          ]
        }
      ]
    },
    {
      "cell_type": "code",
      "source": [
        "#getting confidence interval for correlation\n",
        "r_z = np.arctanh(r)\n",
        "se = 1/np.sqrt(dataframe['Rbodymass'].size-3)\n",
        "alpha = 0.05\n",
        "z = st.norm.ppf(1-alpha/2)\n",
        "lo_z, hi_z = r_z-z*se, r_z+z*se\n",
        "lo, hi = np.tanh((lo_z, hi_z))\n",
        "print('Confidence Interval:',(lo,hi))"
      ],
      "metadata": {
        "colab": {
          "base_uri": "https://localhost:8080/"
        },
        "id": "vZqu7sEt4om4",
        "outputId": "c423bdfa-95ee-4a22-b30b-a6c2c7bb0459"
      },
      "id": "vZqu7sEt4om4",
      "execution_count": 61,
      "outputs": [
        {
          "output_type": "stream",
          "name": "stdout",
          "text": [
            "Confidence Interval: (0.09633685563633537, 0.3675759574875193)\n"
          ]
        }
      ]
    },
    {
      "cell_type": "markdown",
      "source": [
        "####Task 4"
      ],
      "metadata": {
        "id": "RJMyjXdKI5Rs"
      },
      "id": "RJMyjXdKI5Rs"
    },
    {
      "cell_type": "code",
      "source": [
        "# plotting Regression Line\n",
        "import seaborn as sns\n",
        "import matplotlib.pyplot as plt\n",
        "\n",
        "X=dataframe['Rbodymass'].astype(float)\n",
        "y=dataframe['survival_status']\n",
        "sns.regplot(x=X, y=y, data=dataframe, ci=95)\n",
        "plt.title('Regression Line for Rbodymass vs survival_status\\n')\n",
        "plt.show()"
      ],
      "metadata": {
        "colab": {
          "base_uri": "https://localhost:8080/",
          "height": 310
        },
        "id": "KMfruxLE9onw",
        "outputId": "c69de826-2363-4ab9-fdfc-e0708fa9cf2e"
      },
      "id": "KMfruxLE9onw",
      "execution_count": 39,
      "outputs": [
        {
          "output_type": "display_data",
          "data": {
            "text/plain": [
              "<Figure size 432x288 with 1 Axes>"
            ],
            "image/png": "[encoded data removed]"
          },
          "metadata": {
            "needs_background": "light"
          }
        }
      ]
    },
    {
      "cell_type": "code",
      "source": [
        "# plotting Residual\n",
        "sns.residplot(x=X, y=y, order=1,\n",
        "   data=dataframe, scatter_kws={'color': 'r',\n",
        "   'alpha': 0.5})\n",
        "plt.title('Residual for Rbodymass vs survival_status\\n')\n",
        "plt.show()"
      ],
      "metadata": {
        "colab": {
          "base_uri": "https://localhost:8080/",
          "height": 310
        },
        "id": "C5h_qbZf9sEa",
        "outputId": "68ea6c0a-76a7-4e4f-ac09-4617eda857fd"
      },
      "id": "C5h_qbZf9sEa",
      "execution_count": 40,
      "outputs": [
        {
          "output_type": "display_data",
          "data": {
            "text/plain": [
              "<Figure size 432x288 with 1 Axes>"
            ],
            "image/png": "[encoded data removed]"
          },
          "metadata": {
            "needs_background": "light"
          }
        }
      ]
    }
  ],
  "metadata": {
    "kernelspec": {
      "display_name": "cbir_kagg",
      "language": "python",
      "name": "python3"
    },
    "language_info": {
      "codemirror_mode": {
        "name": "ipython",
        "version": 3
      },
      "file_extension": ".py",
      "mimetype": "text/x-python",
      "name": "python",
      "nbconvert_exporter": "python",
      "pygments_lexer": "ipython3",
      "version": "3.7.13"
    },
    "colab": {
      "provenance": []
    }
  },
  "nbformat": 4,
  "nbformat_minor": 5
}